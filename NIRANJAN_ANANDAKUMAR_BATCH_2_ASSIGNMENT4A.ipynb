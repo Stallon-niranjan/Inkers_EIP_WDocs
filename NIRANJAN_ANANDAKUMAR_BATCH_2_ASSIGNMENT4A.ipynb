{
  "nbformat": 4,
  "nbformat_minor": 0,
  "metadata": {
    "colab": {
      "name": "NIRANJAN_ANANDAKUMAR_BATCH_2_ASSIGNMENT4A.ipynb",
      "version": "0.3.2",
      "provenance": [],
      "collapsed_sections": []
    },
    "kernelspec": {
      "name": "python3",
      "display_name": "Python 3"
    },
    "accelerator": "GPU"
  },
  "cells": [
    {
      "cell_type": "markdown",
      "metadata": {
        "id": "view-in-github",
        "colab_type": "text"
      },
      "source": [
        "[View in Colaboratory](https://colab.research.google.com/github/Stallon-niranjan/Inkers_EIP_WDocs/blob/master/NIRANJAN_ANANDAKUMAR_BATCH_2_ASSIGNMENT4A.ipynb)"
      ]
    },
    {
      "metadata": {
        "id": "aNyZv-Ec52ot",
        "colab_type": "text"
      },
      "cell_type": "markdown",
      "source": [
        "# **Import Libraries and modules**"
      ]
    },
    {
      "metadata": {
        "id": "3m3w1Cw49Zkt",
        "colab_type": "code",
        "colab": {
          "base_uri": "https://localhost:8080/",
          "height": 34
        },
        "outputId": "8ae42ac4-217c-4329-b763-b7688e8820c9"
      },
      "cell_type": "code",
      "source": [
        "# https://keras.io/\n",
        "!pip install -q keras\n",
        "import keras"
      ],
      "execution_count": 1,
      "outputs": [
        {
          "output_type": "stream",
          "text": [
            "Using TensorFlow backend.\n"
          ],
          "name": "stderr"
        }
      ]
    },
    {
      "metadata": {
        "id": "Eso6UHE080D4",
        "colab_type": "code",
        "colab": {}
      },
      "cell_type": "code",
      "source": [
        "import numpy as np\n",
        "\n",
        "from keras.models import Sequential\n",
        "from keras.layers import Dense, Dropout, Activation, Flatten, Add\n",
        "from keras.layers import Conv2D, MaxPooling2D\n",
        "from keras.utils import np_utils\n",
        "\n",
        "from keras.datasets import mnist"
      ],
      "execution_count": 0,
      "outputs": []
    },
    {
      "metadata": {
        "id": "zByEi95J86RD",
        "colab_type": "text"
      },
      "cell_type": "markdown",
      "source": [
        "### Load pre-shuffled MNIST data into train and test sets"
      ]
    },
    {
      "metadata": {
        "id": "7eRM0QWN83PV",
        "colab_type": "code",
        "colab": {
          "base_uri": "https://localhost:8080/",
          "height": 51
        },
        "outputId": "36d76bf1-4e16-4d98-c15b-bf89beb145f4"
      },
      "cell_type": "code",
      "source": [
        "(X_train, y_train), (X_test, y_test) = mnist.load_data()"
      ],
      "execution_count": 3,
      "outputs": [
        {
          "output_type": "stream",
          "text": [
            "Downloading data from https://s3.amazonaws.com/img-datasets/mnist.npz\n",
            "11493376/11490434 [==============================] - 1s 0us/step\n"
          ],
          "name": "stdout"
        }
      ]
    },
    {
      "metadata": {
        "id": "4a4Be72j8-ZC",
        "colab_type": "code",
        "colab": {
          "base_uri": "https://localhost:8080/",
          "height": 299
        },
        "outputId": "68d81bf8-0445-4b2a-fc17-6b1f983a862a"
      },
      "cell_type": "code",
      "source": [
        "print (X_train.shape)\n",
        "from matplotlib import pyplot as plt\n",
        "%matplotlib inline\n",
        "plt.imshow(X_train[0])"
      ],
      "execution_count": 4,
      "outputs": [
        {
          "output_type": "stream",
          "text": [
            "(60000, 28, 28)\n"
          ],
          "name": "stdout"
        },
        {
          "output_type": "execute_result",
          "data": {
            "text/plain": [
              "<matplotlib.image.AxesImage at 0x7f4589d3ab00>"
            ]
          },
          "metadata": {
            "tags": []
          },
          "execution_count": 4
        },
        {
          "output_type": "display_data",
          "data": {
            "image/png": "[encoded data removed]",
            "text/plain": [
              "<matplotlib.figure.Figure at 0x7f458a1cbf98>"
            ]
          },
          "metadata": {
            "tags": []
          }
        }
      ]
    },
    {
      "metadata": {
        "id": "dkmprriw9AnZ",
        "colab_type": "code",
        "colab": {}
      },
      "cell_type": "code",
      "source": [
        "X_train = X_train.reshape(X_train.shape[0], 28, 28,1)\n",
        "X_test = X_test.reshape(X_test.shape[0], 28, 28,1)"
      ],
      "execution_count": 0,
      "outputs": []
    },
    {
      "metadata": {
        "id": "X2m4YS4E9CRh",
        "colab_type": "code",
        "colab": {}
      },
      "cell_type": "code",
      "source": [
        "X_train = X_train.astype('float32')\n",
        "X_test = X_test.astype('float32')\n",
        "X_train /= 255\n",
        "X_test /= 255"
      ],
      "execution_count": 0,
      "outputs": []
    },
    {
      "metadata": {
        "id": "0Mn0vAYD9DvB",
        "colab_type": "code",
        "colab": {
          "base_uri": "https://localhost:8080/",
          "height": 34
        },
        "outputId": "2f41f11c-d119-47bf-b18f-ef92857865bb"
      },
      "cell_type": "code",
      "source": [
        "y_train[:10]"
      ],
      "execution_count": 7,
      "outputs": [
        {
          "output_type": "execute_result",
          "data": {
            "text/plain": [
              "array([5, 0, 4, 1, 9, 2, 1, 3, 1, 4], dtype=uint8)"
            ]
          },
          "metadata": {
            "tags": []
          },
          "execution_count": 7
        }
      ]
    },
    {
      "metadata": {
        "id": "ZG8JiXR39FHC",
        "colab_type": "code",
        "colab": {}
      },
      "cell_type": "code",
      "source": [
        "# Convert 1-dimensional class arrays to 10-dimensional class matrices\n",
        "Y_train = np_utils.to_categorical(y_train, 10)\n",
        "Y_test = np_utils.to_categorical(y_test, 10)"
      ],
      "execution_count": 0,
      "outputs": []
    },
    {
      "metadata": {
        "id": "fYlFRvKS9HMB",
        "colab_type": "code",
        "colab": {
          "base_uri": "https://localhost:8080/",
          "height": 187
        },
        "outputId": "298eff93-fc57-462c-ded9-d845f04b5c9b"
      },
      "cell_type": "code",
      "source": [
        "Y_train[:10]\n"
      ],
      "execution_count": 9,
      "outputs": [
        {
          "output_type": "execute_result",
          "data": {
            "text/plain": [
              "array([[0., 0., 0., 0., 0., 1., 0., 0., 0., 0.],\n",
              "       [1., 0., 0., 0., 0., 0., 0., 0., 0., 0.],\n",
              "       [0., 0., 0., 0., 1., 0., 0., 0., 0., 0.],\n",
              "       [0., 1., 0., 0., 0., 0., 0., 0., 0., 0.],\n",
              "       [0., 0., 0., 0., 0., 0., 0., 0., 0., 1.],\n",
              "       [0., 0., 1., 0., 0., 0., 0., 0., 0., 0.],\n",
              "       [0., 1., 0., 0., 0., 0., 0., 0., 0., 0.],\n",
              "       [0., 0., 0., 1., 0., 0., 0., 0., 0., 0.],\n",
              "       [0., 1., 0., 0., 0., 0., 0., 0., 0., 0.],\n",
              "       [0., 0., 0., 0., 1., 0., 0., 0., 0., 0.]], dtype=float32)"
            ]
          },
          "metadata": {
            "tags": []
          },
          "execution_count": 9
        }
      ]
    },
    {
      "metadata": {
        "id": "osKqT73Q9JJB",
        "colab_type": "code",
        "colab": {}
      },
      "cell_type": "code",
      "source": [
        "from keras.layers import Activation\n",
        "model = Sequential()\n",
        "\n",
        " \n",
        "model.add(Conv2D(128, (3, 3), activation=\"relu\", input_shape=(28,28,1)))\n",
        "model.add(Conv2D(10, 1, activation=\"relu\"))\n",
        "model.add(Conv2D(10, (3, 3), activation=\"relu\"))\n",
        "model.add(Conv2D(10, 24))\n",
        "model.add(Flatten())\n",
        "model.add(Activation('softmax'))"
      ],
      "execution_count": 0,
      "outputs": []
    },
    {
      "metadata": {
        "id": "TzdAYg1k9K7Z",
        "colab_type": "code",
        "colab": {
          "base_uri": "https://localhost:8080/",
          "height": 340
        },
        "outputId": "da271e70-0be8-4d3b-f44d-dc25e5654dac"
      },
      "cell_type": "code",
      "source": [
        "model.summary()"
      ],
      "execution_count": 11,
      "outputs": [
        {
          "output_type": "stream",
          "text": [
            "_________________________________________________________________\n",
            "Layer (type)                 Output Shape              Param #   \n",
            "=================================================================\n",
            "conv2d_1 (Conv2D)            (None, 26, 26, 128)       1280      \n",
            "_________________________________________________________________\n",
            "conv2d_2 (Conv2D)            (None, 26, 26, 10)        1290      \n",
            "_________________________________________________________________\n",
            "conv2d_3 (Conv2D)            (None, 24, 24, 10)        910       \n",
            "_________________________________________________________________\n",
            "conv2d_4 (Conv2D)            (None, 1, 1, 10)          57610     \n",
            "_________________________________________________________________\n",
            "flatten_1 (Flatten)          (None, 10)                0         \n",
            "_________________________________________________________________\n",
            "activation_1 (Activation)    (None, 10)                0         \n",
            "=================================================================\n",
            "Total params: 61,090\n",
            "Trainable params: 61,090\n",
            "Non-trainable params: 0\n",
            "_________________________________________________________________\n"
          ],
          "name": "stdout"
        }
      ]
    },
    {
      "metadata": {
        "id": "Zp6SuGrL9M3h",
        "colab_type": "code",
        "colab": {}
      },
      "cell_type": "code",
      "source": [
        "model.compile(loss='categorical_crossentropy',\n",
        "             optimizer='adam',\n",
        "             metrics=['accuracy'])"
      ],
      "execution_count": 0,
      "outputs": []
    },
    {
      "metadata": {
        "id": "4xWoKhPY9Of5",
        "colab_type": "code",
        "colab": {
          "base_uri": "https://localhost:8080/",
          "height": 1734
        },
        "outputId": "e3fe0c71-3c67-40a5-f030-02bbc9d18dde"
      },
      "cell_type": "code",
      "source": [
        "model.fit(X_train, Y_train, batch_size=128, epochs=50, verbose=2)"
      ],
      "execution_count": 17,
      "outputs": [
        {
          "output_type": "stream",
          "text": [
            "Epoch 1/50\n",
            " - 9s - loss: 2.6875e-04 - acc: 1.0000\n",
            "Epoch 2/50\n",
            " - 9s - loss: 2.6875e-04 - acc: 1.0000\n",
            "Epoch 3/50\n",
            " - 9s - loss: 2.6875e-04 - acc: 1.0000\n",
            "Epoch 4/50\n",
            " - 9s - loss: 2.6875e-04 - acc: 1.0000\n",
            "Epoch 5/50\n",
            " - 9s - loss: 2.6875e-04 - acc: 1.0000\n",
            "Epoch 6/50\n",
            " - 9s - loss: 2.6875e-04 - acc: 1.0000\n",
            "Epoch 7/50\n",
            " - 9s - loss: 2.6875e-04 - acc: 1.0000\n",
            "Epoch 8/50\n",
            " - 9s - loss: 2.6875e-04 - acc: 1.0000\n",
            "Epoch 9/50\n",
            " - 9s - loss: 2.6875e-04 - acc: 1.0000\n",
            "Epoch 10/50\n",
            " - 9s - loss: 2.6875e-04 - acc: 1.0000\n",
            "Epoch 11/50\n",
            " - 9s - loss: 2.6875e-04 - acc: 1.0000\n",
            "Epoch 12/50\n",
            " - 9s - loss: 2.6875e-04 - acc: 1.0000\n",
            "Epoch 13/50\n",
            " - 9s - loss: 2.6875e-04 - acc: 1.0000\n",
            "Epoch 14/50\n",
            " - 9s - loss: 2.6875e-04 - acc: 1.0000\n",
            "Epoch 15/50\n",
            " - 9s - loss: 2.6875e-04 - acc: 1.0000\n",
            "Epoch 16/50\n",
            " - 9s - loss: 2.6875e-04 - acc: 1.0000\n",
            "Epoch 17/50\n",
            " - 9s - loss: 2.6875e-04 - acc: 1.0000\n",
            "Epoch 18/50\n",
            " - 9s - loss: 2.6875e-04 - acc: 1.0000\n",
            "Epoch 19/50\n",
            " - 9s - loss: 2.6875e-04 - acc: 1.0000\n",
            "Epoch 20/50\n",
            " - 9s - loss: 2.6875e-04 - acc: 1.0000\n",
            "Epoch 21/50\n",
            " - 9s - loss: 2.6875e-04 - acc: 1.0000\n",
            "Epoch 22/50\n",
            " - 9s - loss: 2.6875e-04 - acc: 1.0000\n",
            "Epoch 23/50\n",
            " - 9s - loss: 2.6875e-04 - acc: 1.0000\n",
            "Epoch 24/50\n",
            " - 9s - loss: 2.6875e-04 - acc: 1.0000\n",
            "Epoch 25/50\n",
            " - 9s - loss: 2.6875e-04 - acc: 1.0000\n",
            "Epoch 26/50\n",
            " - 9s - loss: 2.6875e-04 - acc: 1.0000\n",
            "Epoch 27/50\n",
            " - 9s - loss: 2.6875e-04 - acc: 1.0000\n",
            "Epoch 28/50\n",
            " - 9s - loss: 2.6875e-04 - acc: 1.0000\n",
            "Epoch 29/50\n",
            " - 9s - loss: 2.6875e-04 - acc: 1.0000\n",
            "Epoch 30/50\n",
            " - 9s - loss: 2.6875e-04 - acc: 1.0000\n",
            "Epoch 31/50\n",
            " - 9s - loss: 2.6875e-04 - acc: 1.0000\n",
            "Epoch 32/50\n",
            " - 9s - loss: 2.6875e-04 - acc: 1.0000\n",
            "Epoch 33/50\n",
            " - 9s - loss: 2.6875e-04 - acc: 1.0000\n",
            "Epoch 34/50\n",
            " - 9s - loss: 2.6875e-04 - acc: 1.0000\n",
            "Epoch 35/50\n",
            " - 9s - loss: 2.6875e-04 - acc: 1.0000\n",
            "Epoch 36/50\n",
            " - 9s - loss: 2.6875e-04 - acc: 1.0000\n",
            "Epoch 37/50\n",
            " - 9s - loss: 2.6875e-04 - acc: 1.0000\n",
            "Epoch 38/50\n",
            " - 9s - loss: 2.6875e-04 - acc: 1.0000\n",
            "Epoch 39/50\n",
            " - 9s - loss: 2.6875e-04 - acc: 1.0000\n",
            "Epoch 40/50\n",
            " - 9s - loss: 2.6875e-04 - acc: 1.0000\n",
            "Epoch 41/50\n",
            " - 9s - loss: 2.6875e-04 - acc: 1.0000\n",
            "Epoch 42/50\n",
            " - 9s - loss: 2.6875e-04 - acc: 1.0000\n",
            "Epoch 43/50\n",
            " - 9s - loss: 2.6875e-04 - acc: 1.0000\n",
            "Epoch 44/50\n",
            " - 9s - loss: 2.6875e-04 - acc: 1.0000\n"
          ],
          "name": "stdout"
        },
        {
          "output_type": "stream",
          "text": [
            "Epoch 45/50\n",
            " - 9s - loss: 2.6875e-04 - acc: 1.0000\n",
            "Epoch 46/50\n",
            " - 9s - loss: 2.6875e-04 - acc: 1.0000\n",
            "Epoch 47/50\n",
            " - 9s - loss: 2.6875e-04 - acc: 1.0000\n",
            "Epoch 48/50\n",
            " - 9s - loss: 2.6875e-04 - acc: 1.0000\n",
            "Epoch 49/50\n",
            " - 9s - loss: 2.6875e-04 - acc: 1.0000\n",
            "Epoch 50/50\n",
            " - 9s - loss: 2.6875e-04 - acc: 1.0000\n"
          ],
          "name": "stdout"
        },
        {
          "output_type": "execute_result",
          "data": {
            "text/plain": [
              "<keras.callbacks.History at 0x7f458a1cbe10>"
            ]
          },
          "metadata": {
            "tags": []
          },
          "execution_count": 17
        }
      ]
    },
    {
      "metadata": {
        "id": "AtsH-lLk-eLb",
        "colab_type": "code",
        "colab": {}
      },
      "cell_type": "code",
      "source": [
        "score = model.evaluate(X_test, Y_test, verbose=0)"
      ],
      "execution_count": 0,
      "outputs": []
    },
    {
      "metadata": {
        "id": "mkX8JMv79q9r",
        "colab_type": "code",
        "colab": {
          "base_uri": "https://localhost:8080/",
          "height": 34
        },
        "outputId": "95fae518-a609-4e3e-efd2-c68439a3424a"
      },
      "cell_type": "code",
      "source": [
        "print(score)"
      ],
      "execution_count": 19,
      "outputs": [
        {
          "output_type": "stream",
          "text": [
            "[0.14039544397818365, 0.9867]\n"
          ],
          "name": "stdout"
        }
      ]
    },
    {
      "metadata": {
        "id": "OCWoJkwE9suh",
        "colab_type": "code",
        "colab": {}
      },
      "cell_type": "code",
      "source": [
        "y_pred = model.predict(X_test)"
      ],
      "execution_count": 0,
      "outputs": []
    },
    {
      "metadata": {
        "id": "Ym7iCFBm9uBs",
        "colab_type": "code",
        "colab": {
          "base_uri": "https://localhost:8080/",
          "height": 340
        },
        "outputId": "37d4bbee-fd1d-4dec-bfce-f56295deb46c"
      },
      "cell_type": "code",
      "source": [
        "print(y_pred[:9])\n",
        "print(y_test[:9])"
      ],
      "execution_count": 21,
      "outputs": [
        {
          "output_type": "stream",
          "text": [
            "[[0.0000000e+00 0.0000000e+00 0.0000000e+00 1.5395236e-37 0.0000000e+00\n",
            "  0.0000000e+00 0.0000000e+00 1.0000000e+00 0.0000000e+00 0.0000000e+00]\n",
            " [0.0000000e+00 0.0000000e+00 1.0000000e+00 0.0000000e+00 0.0000000e+00\n",
            "  0.0000000e+00 0.0000000e+00 0.0000000e+00 0.0000000e+00 0.0000000e+00]\n",
            " [0.0000000e+00 1.0000000e+00 3.3704683e-26 0.0000000e+00 7.6767033e-20\n",
            "  3.9334052e-25 5.8430415e-37 7.1042422e-25 1.4507992e-18 0.0000000e+00]\n",
            " [1.0000000e+00 0.0000000e+00 2.0513304e-34 0.0000000e+00 0.0000000e+00\n",
            "  0.0000000e+00 7.5884367e-32 0.0000000e+00 3.1972616e-33 0.0000000e+00]\n",
            " [0.0000000e+00 0.0000000e+00 0.0000000e+00 0.0000000e+00 1.0000000e+00\n",
            "  0.0000000e+00 0.0000000e+00 0.0000000e+00 1.8596385e-34 7.7289675e-30]\n",
            " [0.0000000e+00 1.0000000e+00 4.0657267e-36 0.0000000e+00 6.7271211e-22\n",
            "  0.0000000e+00 0.0000000e+00 7.8846352e-20 2.9584043e-26 0.0000000e+00]\n",
            " [0.0000000e+00 0.0000000e+00 0.0000000e+00 0.0000000e+00 1.0000000e+00\n",
            "  0.0000000e+00 0.0000000e+00 1.3279467e-38 1.0175645e-19 5.9090292e-30]\n",
            " [0.0000000e+00 0.0000000e+00 0.0000000e+00 0.0000000e+00 3.1668564e-32\n",
            "  1.1292995e-37 0.0000000e+00 0.0000000e+00 4.8188738e-30 1.0000000e+00]\n",
            " [0.0000000e+00 0.0000000e+00 0.0000000e+00 0.0000000e+00 0.0000000e+00\n",
            "  4.2296929e-04 9.9957699e-01 0.0000000e+00 2.3183853e-21 0.0000000e+00]]\n",
            "[7 2 1 0 4 1 4 9 5]\n"
          ],
          "name": "stdout"
        }
      ]
    },
    {
      "metadata": {
        "id": "CT--y98_dr2T",
        "colab_type": "code",
        "colab": {}
      },
      "cell_type": "code",
      "source": [
        "layer_dict = dict([(layer.name, layer) for layer in model.layers])"
      ],
      "execution_count": 0,
      "outputs": []
    },
    {
      "metadata": {
        "id": "2GY4Upv4dsUR",
        "colab_type": "code",
        "colab": {
          "base_uri": "https://localhost:8080/",
          "height": 869
        },
        "outputId": "9c42234d-a6eb-4643-aebe-b6927e2c41b0"
      },
      "cell_type": "code",
      "source": [
        "import numpy as np\n",
        "from matplotlib import pyplot as plt\n",
        "from keras import backend as K\n",
        "%matplotlib inline\n",
        "# util function to convert a tensor into a valid image\n",
        "def deprocess_image(x):\n",
        "    # normalize tensor: center on 0., ensure std is 0.1\n",
        "    x -= x.mean()\n",
        "    x /= (x.std() + 1e-5)\n",
        "    x *= 0.1\n",
        "\n",
        "    # clip to [0, 1]\n",
        "    x += 0.5\n",
        "    x = np.clip(x, 0, 1)\n",
        "\n",
        "    # convert to RGB array\n",
        "    x *= 255\n",
        "    #x = x.transpose((1, 2, 0))\n",
        "    x = np.clip(x, 0, 255).astype('uint8')\n",
        "    return x\n",
        "\n",
        "def vis_img_in_filter(img = np.array(X_train[2]).reshape((1, 28, 28, 1)).astype(np.float64), \n",
        "                      layer_name = 'conv2d_1'):\n",
        "    layer_output = layer_dict[layer_name].output\n",
        "    img_ascs = list()\n",
        "    for filter_index in range(layer_output.shape[3]):\n",
        "        # build a loss function that maximizes the activation\n",
        "        # of the nth filter of the layer considered\n",
        "        loss = K.mean(layer_output[:, :, :, filter_index])\n",
        "\n",
        "        # compute the gradient of the input picture wrt this loss\n",
        "        grads = K.gradients(loss, model.input)[0]\n",
        "\n",
        "        # normalization trick: we normalize the gradient\n",
        "        grads /= (K.sqrt(K.mean(K.square(grads))) + 1e-5)\n",
        "\n",
        "        # this function returns the loss and grads given the input picture\n",
        "        iterate = K.function([model.input], [loss, grads])\n",
        "\n",
        "        # step size for gradient ascent\n",
        "        step = 5.\n",
        "\n",
        "        img_asc = np.array(img)\n",
        "        # run gradient ascent for 20 steps\n",
        "        for i in range(20):\n",
        "            loss_value, grads_value = iterate([img_asc])\n",
        "            img_asc += grads_value * step\n",
        "\n",
        "        img_asc = img_asc[0]\n",
        "        img_ascs.append(deprocess_image(img_asc).reshape((28, 28)))\n",
        "        \n",
        "    if layer_output.shape[3] >= 35:\n",
        "        plot_x, plot_y = 6, 6\n",
        "    elif layer_output.shape[3] >= 23:\n",
        "        plot_x, plot_y = 4, 6\n",
        "    elif layer_output.shape[3] >= 11:\n",
        "        plot_x, plot_y = 2, 6\n",
        "    else:\n",
        "        plot_x, plot_y = 1, 2\n",
        "    fig, ax = plt.subplots(plot_x, plot_y, figsize = (12, 12))\n",
        "    ax[0, 0].imshow(img.reshape((28, 28)), cmap = 'gray')\n",
        "    ax[0, 0].set_title('Input image')\n",
        "    fig.suptitle('Input image and %s filters' % (layer_name,))\n",
        "    fig.tight_layout(pad = 0.3, rect = [0, 0, 0.9, 0.9])\n",
        "    for (x, y) in [(i, j) for i in range(plot_x) for j in range(plot_y)]:\n",
        "        if x == 0 and y == 0:\n",
        "            continue\n",
        "        ax[x, y].imshow(img_ascs[x * plot_y + y - 1], cmap = 'gray')\n",
        "        ax[x, y].set_title('filter %d' % (x * plot_y + y - 1))\n",
        "\n",
        "vis_img_in_filter()"
      ],
      "execution_count": 30,
      "outputs": [
        {
          "output_type": "display_data",
          "data": {
            "image/png": "[encoded data removed]",
            "text/plain": [
              "<matplotlib.figure.Figure at 0x7f4555b80780>"
            ]
          },
          "metadata": {
            "tags": []
          }
        }
      ]
    },
    {
      "metadata": {
        "id": "9tvptcn8dxvp",
        "colab_type": "code",
        "colab": {}
      },
      "cell_type": "code",
      "source": [
        ""
      ],
      "execution_count": 0,
      "outputs": []
    }
  ]
}