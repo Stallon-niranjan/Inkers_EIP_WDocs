{
  "nbformat": 4,
  "nbformat_minor": 0,
  "metadata": {
    "colab": {
      "name": "NIRANJAN_ANANDAKUMAR_BATCH_2_ASSIGNMENT4B.ipynb",
      "version": "0.3.2",
      "provenance": [],
      "collapsed_sections": []
    },
    "kernelspec": {
      "name": "python3",
      "display_name": "Python 3"
    },
    "accelerator": "GPU"
  },
  "cells": [
    {
      "cell_type": "markdown",
      "metadata": {
        "id": "view-in-github",
        "colab_type": "text"
      },
      "source": [
        "[View in Colaboratory](https://colab.research.google.com/github/Stallon-niranjan/Inkers_EIP_WDocs/blob/master/NIRANJAN_ANANDAKUMAR_BATCH_2_ASSIGNMENT4B.ipynb)"
      ]
    },
    {
      "metadata": {
        "id": "K70hAckqg0EA",
        "colab_type": "code",
        "colab": {
          "base_uri": "https://localhost:8080/",
          "height": 34
        },
        "outputId": "4673366d-a1bc-4c3a-a5be-78473fd9e89d"
      },
      "cell_type": "code",
      "source": [
        "# https://keras.io/\n",
        "!pip install -q keras\n",
        "import keras"
      ],
      "execution_count": 1,
      "outputs": [
        {
          "output_type": "stream",
          "text": [
            "Using TensorFlow backend.\n"
          ],
          "name": "stderr"
        }
      ]
    },
    {
      "metadata": {
        "id": "wVIx_KIigxPV",
        "colab_type": "code",
        "colab": {}
      },
      "cell_type": "code",
      "source": [
        "import keras\n",
        "from keras.datasets import cifar10\n",
        "from keras.models import Model, Sequential\n",
        "from keras.layers import Dense, Dropout, Flatten, Input, AveragePooling2D, merge, Activation\n",
        "from keras.layers import Conv2D, MaxPooling2D, BatchNormalization\n",
        "from keras.layers import Concatenate\n",
        "from keras.optimizers import adam"
      ],
      "execution_count": 0,
      "outputs": []
    },
    {
      "metadata": {
        "id": "UNHw6luQg3gc",
        "colab_type": "code",
        "colab": {}
      },
      "cell_type": "code",
      "source": [
        "# this part will prevent tensorflow to allocate all the avaliable GPU Memory\n",
        "# backend\n",
        "import tensorflow as tf\n",
        "from keras import backend as k\n",
        "\n",
        "# Don't pre-allocate memory; allocate as-needed\n",
        "config = tf.ConfigProto()\n",
        "config.gpu_options.allow_growth = True\n",
        "\n",
        "# Create a session with the above options specified.\n",
        "k.tensorflow_backend.set_session(tf.Session(config=config))"
      ],
      "execution_count": 0,
      "outputs": []
    },
    {
      "metadata": {
        "id": "dsO_yGxcg5D8",
        "colab_type": "code",
        "colab": {}
      },
      "cell_type": "code",
      "source": [
        "# Hyperparameters\n",
        "batch_size = 200\n",
        "num_classes = 10\n",
        "epochs = 150\n",
        "l = 40\n",
        "num_filter = 12\n",
        "compression = 0.5\n",
        "dropout_rate = 0.2"
      ],
      "execution_count": 0,
      "outputs": []
    },
    {
      "metadata": {
        "id": "mB7o3zu1g6eT",
        "colab_type": "code",
        "colab": {
          "base_uri": "https://localhost:8080/",
          "height": 51
        },
        "outputId": "ab0f26cb-a6eb-46e8-eccb-ee6b5a8db377"
      },
      "cell_type": "code",
      "source": [
        "# Load CIFAR10 Data\n",
        "(x_train, y_train), (x_test, y_test) = cifar10.load_data()\n",
        "img_height, img_width, channel = x_train.shape[1],x_train.shape[2],x_train.shape[3]\n",
        "\n",
        "# convert to one hot encoing \n",
        "y_train = keras.utils.to_categorical(y_train, num_classes)\n",
        "y_test = keras.utils.to_categorical(y_test, num_classes)"
      ],
      "execution_count": 5,
      "outputs": [
        {
          "output_type": "stream",
          "text": [
            "Downloading data from https://www.cs.toronto.edu/~kriz/cifar-10-python.tar.gz\n",
            "170500096/170498071 [==============================] - 25s 0us/step\n"
          ],
          "name": "stdout"
        }
      ]
    },
    {
      "metadata": {
        "id": "ee-sge5Kg7vr",
        "colab_type": "code",
        "colab": {}
      },
      "cell_type": "code",
      "source": [
        "# Dense Block\n",
        "def add_denseblock(input, num_filter = 12, dropout_rate = 0.2):\n",
        "    global compression\n",
        "    temp = input\n",
        "    for _ in range(l):\n",
        "        BatchNorm = BatchNormalization()(temp)\n",
        "        relu = Activation('relu')(BatchNorm)\n",
        "        Conv2D_3_3 = Conv2D(int(num_filter*compression), (3,3), use_bias=False ,padding='same')(relu)\n",
        "        if dropout_rate>0:\n",
        "          Conv2D_3_3 = Dropout(dropout_rate)(Conv2D_3_3)\n",
        "        concat = Concatenate(axis=-1)([temp,Conv2D_3_3])\n",
        "        \n",
        "        temp = concat\n",
        "        \n",
        "    return temp"
      ],
      "execution_count": 0,
      "outputs": []
    },
    {
      "metadata": {
        "id": "OOP6IPsGhBwb",
        "colab_type": "code",
        "colab": {}
      },
      "cell_type": "code",
      "source": [
        "def add_transition(input, num_filter = 12, dropout_rate = 0.2):\n",
        "    global compression\n",
        "    BatchNorm = BatchNormalization()(input)\n",
        "    relu = Activation('relu')(BatchNorm)\n",
        "    Conv2D_BottleNeck = Conv2D(int(num_filter*compression), (1,1), use_bias=False ,padding='same')(relu)\n",
        "    if dropout_rate>0:\n",
        "      Conv2D_BottleNeck = Dropout(dropout_rate)(Conv2D_BottleNeck)\n",
        "    avg = AveragePooling2D(pool_size=(2,2))(Conv2D_BottleNeck)\n",
        "    \n",
        "    return avg"
      ],
      "execution_count": 0,
      "outputs": []
    },
    {
      "metadata": {
        "id": "0RaKFpubhDIC",
        "colab_type": "code",
        "colab": {}
      },
      "cell_type": "code",
      "source": [
        "def output_layer(input):\n",
        "    global compression\n",
        "    BatchNorm = BatchNormalization()(input)\n",
        "    relu = Activation('relu')(BatchNorm)\n",
        "    AvgPooling = AveragePooling2D(pool_size=(2,2))(relu)\n",
        "    flat = Flatten()(AvgPooling)\n",
        "    output = Dense(num_classes, activation='softmax')(flat)\n",
        "    \n",
        "    return output"
      ],
      "execution_count": 0,
      "outputs": []
    },
    {
      "metadata": {
        "id": "anPCpQWhhGb7",
        "colab_type": "code",
        "colab": {}
      },
      "cell_type": "code",
      "source": [
        "num_filter = 12\n",
        "dropout_rate = 0.2\n",
        "l = 12\n",
        "input = Input(shape=(img_height, img_width, channel,))\n",
        "First_Conv2D = Conv2D(num_filter, (3,3), use_bias=False ,padding='same')(input)\n",
        "\n",
        "First_Block = add_denseblock(First_Conv2D, num_filter, dropout_rate)\n",
        "First_Transition = add_transition(First_Block, num_filter, dropout_rate)\n",
        "\n",
        "Second_Block = add_denseblock(First_Transition, num_filter, dropout_rate)\n",
        "Second_Transition = add_transition(Second_Block, num_filter, dropout_rate)\n",
        "\n",
        "Third_Block = add_denseblock(Second_Transition, num_filter, dropout_rate)\n",
        "Third_Transition = add_transition(Third_Block, num_filter, dropout_rate)\n",
        "\n",
        "Last_Block = add_denseblock(Third_Transition,  num_filter, dropout_rate)\n",
        "output = output_layer(Last_Block)\n"
      ],
      "execution_count": 0,
      "outputs": []
    },
    {
      "metadata": {
        "id": "1kFh7pdxhNtT",
        "colab_type": "code",
        "colab": {
          "base_uri": "https://localhost:8080/",
          "height": 9860
        },
        "outputId": "7445b562-f118-4319-f5ac-345462468c6c"
      },
      "cell_type": "code",
      "source": [
        "model = Model(inputs=[input], outputs=[output])\n",
        "model.summary()"
      ],
      "execution_count": 10,
      "outputs": [
        {
          "output_type": "stream",
          "text": [
            "__________________________________________________________________________________________________\n",
            "Layer (type)                    Output Shape         Param #     Connected to                     \n",
            "==================================================================================================\n",
            "input_1 (InputLayer)            (None, 32, 32, 3)    0                                            \n",
            "__________________________________________________________________________________________________\n",
            "conv2d_1 (Conv2D)               (None, 32, 32, 12)   324         input_1[0][0]                    \n",
            "__________________________________________________________________________________________________\n",
            "batch_normalization_1 (BatchNor (None, 32, 32, 12)   48          conv2d_1[0][0]                   \n",
            "__________________________________________________________________________________________________\n",
            "activation_1 (Activation)       (None, 32, 32, 12)   0           batch_normalization_1[0][0]      \n",
            "__________________________________________________________________________________________________\n",
            "conv2d_2 (Conv2D)               (None, 32, 32, 6)    648         activation_1[0][0]               \n",
            "__________________________________________________________________________________________________\n",
            "dropout_1 (Dropout)             (None, 32, 32, 6)    0           conv2d_2[0][0]                   \n",
            "__________________________________________________________________________________________________\n",
            "concatenate_1 (Concatenate)     (None, 32, 32, 18)   0           conv2d_1[0][0]                   \n",
            "                                                                 dropout_1[0][0]                  \n",
            "__________________________________________________________________________________________________\n",
            "batch_normalization_2 (BatchNor (None, 32, 32, 18)   72          concatenate_1[0][0]              \n",
            "__________________________________________________________________________________________________\n",
            "activation_2 (Activation)       (None, 32, 32, 18)   0           batch_normalization_2[0][0]      \n",
            "__________________________________________________________________________________________________\n",
            "conv2d_3 (Conv2D)               (None, 32, 32, 6)    972         activation_2[0][0]               \n",
            "__________________________________________________________________________________________________\n",
            "dropout_2 (Dropout)             (None, 32, 32, 6)    0           conv2d_3[0][0]                   \n",
            "__________________________________________________________________________________________________\n",
            "concatenate_2 (Concatenate)     (None, 32, 32, 24)   0           concatenate_1[0][0]              \n",
            "                                                                 dropout_2[0][0]                  \n",
            "__________________________________________________________________________________________________\n",
            "batch_normalization_3 (BatchNor (None, 32, 32, 24)   96          concatenate_2[0][0]              \n",
            "__________________________________________________________________________________________________\n",
            "activation_3 (Activation)       (None, 32, 32, 24)   0           batch_normalization_3[0][0]      \n",
            "__________________________________________________________________________________________________\n",
            "conv2d_4 (Conv2D)               (None, 32, 32, 6)    1296        activation_3[0][0]               \n",
            "__________________________________________________________________________________________________\n",
            "dropout_3 (Dropout)             (None, 32, 32, 6)    0           conv2d_4[0][0]                   \n",
            "__________________________________________________________________________________________________\n",
            "concatenate_3 (Concatenate)     (None, 32, 32, 30)   0           concatenate_2[0][0]              \n",
            "                                                                 dropout_3[0][0]                  \n",
            "__________________________________________________________________________________________________\n",
            "batch_normalization_4 (BatchNor (None, 32, 32, 30)   120         concatenate_3[0][0]              \n",
            "__________________________________________________________________________________________________\n",
            "activation_4 (Activation)       (None, 32, 32, 30)   0           batch_normalization_4[0][0]      \n",
            "__________________________________________________________________________________________________\n",
            "conv2d_5 (Conv2D)               (None, 32, 32, 6)    1620        activation_4[0][0]               \n",
            "__________________________________________________________________________________________________\n",
            "dropout_4 (Dropout)             (None, 32, 32, 6)    0           conv2d_5[0][0]                   \n",
            "__________________________________________________________________________________________________\n",
            "concatenate_4 (Concatenate)     (None, 32, 32, 36)   0           concatenate_3[0][0]              \n",
            "                                                                 dropout_4[0][0]                  \n",
            "__________________________________________________________________________________________________\n",
            "batch_normalization_5 (BatchNor (None, 32, 32, 36)   144         concatenate_4[0][0]              \n",
            "__________________________________________________________________________________________________\n",
            "activation_5 (Activation)       (None, 32, 32, 36)   0           batch_normalization_5[0][0]      \n",
            "__________________________________________________________________________________________________\n",
            "conv2d_6 (Conv2D)               (None, 32, 32, 6)    1944        activation_5[0][0]               \n",
            "__________________________________________________________________________________________________\n",
            "dropout_5 (Dropout)             (None, 32, 32, 6)    0           conv2d_6[0][0]                   \n",
            "__________________________________________________________________________________________________\n",
            "concatenate_5 (Concatenate)     (None, 32, 32, 42)   0           concatenate_4[0][0]              \n",
            "                                                                 dropout_5[0][0]                  \n",
            "__________________________________________________________________________________________________\n",
            "batch_normalization_6 (BatchNor (None, 32, 32, 42)   168         concatenate_5[0][0]              \n",
            "__________________________________________________________________________________________________\n",
            "activation_6 (Activation)       (None, 32, 32, 42)   0           batch_normalization_6[0][0]      \n",
            "__________________________________________________________________________________________________\n",
            "conv2d_7 (Conv2D)               (None, 32, 32, 6)    2268        activation_6[0][0]               \n",
            "__________________________________________________________________________________________________\n",
            "dropout_6 (Dropout)             (None, 32, 32, 6)    0           conv2d_7[0][0]                   \n",
            "__________________________________________________________________________________________________\n",
            "concatenate_6 (Concatenate)     (None, 32, 32, 48)   0           concatenate_5[0][0]              \n",
            "                                                                 dropout_6[0][0]                  \n",
            "__________________________________________________________________________________________________\n",
            "batch_normalization_7 (BatchNor (None, 32, 32, 48)   192         concatenate_6[0][0]              \n",
            "__________________________________________________________________________________________________\n",
            "activation_7 (Activation)       (None, 32, 32, 48)   0           batch_normalization_7[0][0]      \n",
            "__________________________________________________________________________________________________\n",
            "conv2d_8 (Conv2D)               (None, 32, 32, 6)    2592        activation_7[0][0]               \n",
            "__________________________________________________________________________________________________\n",
            "dropout_7 (Dropout)             (None, 32, 32, 6)    0           conv2d_8[0][0]                   \n",
            "__________________________________________________________________________________________________\n",
            "concatenate_7 (Concatenate)     (None, 32, 32, 54)   0           concatenate_6[0][0]              \n",
            "                                                                 dropout_7[0][0]                  \n",
            "__________________________________________________________________________________________________\n",
            "batch_normalization_8 (BatchNor (None, 32, 32, 54)   216         concatenate_7[0][0]              \n",
            "__________________________________________________________________________________________________\n",
            "activation_8 (Activation)       (None, 32, 32, 54)   0           batch_normalization_8[0][0]      \n",
            "__________________________________________________________________________________________________\n",
            "conv2d_9 (Conv2D)               (None, 32, 32, 6)    2916        activation_8[0][0]               \n",
            "__________________________________________________________________________________________________\n",
            "dropout_8 (Dropout)             (None, 32, 32, 6)    0           conv2d_9[0][0]                   \n",
            "__________________________________________________________________________________________________\n",
            "concatenate_8 (Concatenate)     (None, 32, 32, 60)   0           concatenate_7[0][0]              \n",
            "                                                                 dropout_8[0][0]                  \n",
            "__________________________________________________________________________________________________\n",
            "batch_normalization_9 (BatchNor (None, 32, 32, 60)   240         concatenate_8[0][0]              \n",
            "__________________________________________________________________________________________________\n",
            "activation_9 (Activation)       (None, 32, 32, 60)   0           batch_normalization_9[0][0]      \n",
            "__________________________________________________________________________________________________\n",
            "conv2d_10 (Conv2D)              (None, 32, 32, 6)    3240        activation_9[0][0]               \n",
            "__________________________________________________________________________________________________\n",
            "dropout_9 (Dropout)             (None, 32, 32, 6)    0           conv2d_10[0][0]                  \n",
            "__________________________________________________________________________________________________\n",
            "concatenate_9 (Concatenate)     (None, 32, 32, 66)   0           concatenate_8[0][0]              \n",
            "                                                                 dropout_9[0][0]                  \n",
            "__________________________________________________________________________________________________\n",
            "batch_normalization_10 (BatchNo (None, 32, 32, 66)   264         concatenate_9[0][0]              \n",
            "__________________________________________________________________________________________________\n",
            "activation_10 (Activation)      (None, 32, 32, 66)   0           batch_normalization_10[0][0]     \n",
            "__________________________________________________________________________________________________\n",
            "conv2d_11 (Conv2D)              (None, 32, 32, 6)    3564        activation_10[0][0]              \n",
            "__________________________________________________________________________________________________\n",
            "dropout_10 (Dropout)            (None, 32, 32, 6)    0           conv2d_11[0][0]                  \n",
            "__________________________________________________________________________________________________\n",
            "concatenate_10 (Concatenate)    (None, 32, 32, 72)   0           concatenate_9[0][0]              \n",
            "                                                                 dropout_10[0][0]                 \n",
            "__________________________________________________________________________________________________\n",
            "batch_normalization_11 (BatchNo (None, 32, 32, 72)   288         concatenate_10[0][0]             \n",
            "__________________________________________________________________________________________________\n",
            "activation_11 (Activation)      (None, 32, 32, 72)   0           batch_normalization_11[0][0]     \n",
            "__________________________________________________________________________________________________\n",
            "conv2d_12 (Conv2D)              (None, 32, 32, 6)    3888        activation_11[0][0]              \n",
            "__________________________________________________________________________________________________\n",
            "dropout_11 (Dropout)            (None, 32, 32, 6)    0           conv2d_12[0][0]                  \n",
            "__________________________________________________________________________________________________\n",
            "concatenate_11 (Concatenate)    (None, 32, 32, 78)   0           concatenate_10[0][0]             \n",
            "                                                                 dropout_11[0][0]                 \n",
            "__________________________________________________________________________________________________\n",
            "batch_normalization_12 (BatchNo (None, 32, 32, 78)   312         concatenate_11[0][0]             \n",
            "__________________________________________________________________________________________________\n",
            "activation_12 (Activation)      (None, 32, 32, 78)   0           batch_normalization_12[0][0]     \n",
            "__________________________________________________________________________________________________\n",
            "conv2d_13 (Conv2D)              (None, 32, 32, 6)    4212        activation_12[0][0]              \n",
            "__________________________________________________________________________________________________\n",
            "dropout_12 (Dropout)            (None, 32, 32, 6)    0           conv2d_13[0][0]                  \n",
            "__________________________________________________________________________________________________\n",
            "concatenate_12 (Concatenate)    (None, 32, 32, 84)   0           concatenate_11[0][0]             \n",
            "                                                                 dropout_12[0][0]                 \n",
            "__________________________________________________________________________________________________\n",
            "batch_normalization_13 (BatchNo (None, 32, 32, 84)   336         concatenate_12[0][0]             \n",
            "__________________________________________________________________________________________________\n",
            "activation_13 (Activation)      (None, 32, 32, 84)   0           batch_normalization_13[0][0]     \n",
            "__________________________________________________________________________________________________\n",
            "conv2d_14 (Conv2D)              (None, 32, 32, 6)    504         activation_13[0][0]              \n",
            "__________________________________________________________________________________________________\n",
            "dropout_13 (Dropout)            (None, 32, 32, 6)    0           conv2d_14[0][0]                  \n",
            "__________________________________________________________________________________________________\n",
            "average_pooling2d_1 (AveragePoo (None, 16, 16, 6)    0           dropout_13[0][0]                 \n",
            "__________________________________________________________________________________________________\n",
            "batch_normalization_14 (BatchNo (None, 16, 16, 6)    24          average_pooling2d_1[0][0]        \n",
            "__________________________________________________________________________________________________\n",
            "activation_14 (Activation)      (None, 16, 16, 6)    0           batch_normalization_14[0][0]     \n",
            "__________________________________________________________________________________________________\n",
            "conv2d_15 (Conv2D)              (None, 16, 16, 6)    324         activation_14[0][0]              \n",
            "__________________________________________________________________________________________________\n",
            "dropout_14 (Dropout)            (None, 16, 16, 6)    0           conv2d_15[0][0]                  \n",
            "__________________________________________________________________________________________________\n",
            "concatenate_13 (Concatenate)    (None, 16, 16, 12)   0           average_pooling2d_1[0][0]        \n",
            "                                                                 dropout_14[0][0]                 \n",
            "__________________________________________________________________________________________________\n",
            "batch_normalization_15 (BatchNo (None, 16, 16, 12)   48          concatenate_13[0][0]             \n",
            "__________________________________________________________________________________________________\n",
            "activation_15 (Activation)      (None, 16, 16, 12)   0           batch_normalization_15[0][0]     \n",
            "__________________________________________________________________________________________________\n",
            "conv2d_16 (Conv2D)              (None, 16, 16, 6)    648         activation_15[0][0]              \n",
            "__________________________________________________________________________________________________\n",
            "dropout_15 (Dropout)            (None, 16, 16, 6)    0           conv2d_16[0][0]                  \n",
            "__________________________________________________________________________________________________\n",
            "concatenate_14 (Concatenate)    (None, 16, 16, 18)   0           concatenate_13[0][0]             \n",
            "                                                                 dropout_15[0][0]                 \n",
            "__________________________________________________________________________________________________\n",
            "batch_normalization_16 (BatchNo (None, 16, 16, 18)   72          concatenate_14[0][0]             \n",
            "__________________________________________________________________________________________________\n",
            "activation_16 (Activation)      (None, 16, 16, 18)   0           batch_normalization_16[0][0]     \n",
            "__________________________________________________________________________________________________\n",
            "conv2d_17 (Conv2D)              (None, 16, 16, 6)    972         activation_16[0][0]              \n",
            "__________________________________________________________________________________________________\n",
            "dropout_16 (Dropout)            (None, 16, 16, 6)    0           conv2d_17[0][0]                  \n",
            "__________________________________________________________________________________________________\n",
            "concatenate_15 (Concatenate)    (None, 16, 16, 24)   0           concatenate_14[0][0]             \n",
            "                                                                 dropout_16[0][0]                 \n",
            "__________________________________________________________________________________________________\n",
            "batch_normalization_17 (BatchNo (None, 16, 16, 24)   96          concatenate_15[0][0]             \n",
            "__________________________________________________________________________________________________\n",
            "activation_17 (Activation)      (None, 16, 16, 24)   0           batch_normalization_17[0][0]     \n",
            "__________________________________________________________________________________________________\n",
            "conv2d_18 (Conv2D)              (None, 16, 16, 6)    1296        activation_17[0][0]              \n",
            "__________________________________________________________________________________________________\n",
            "dropout_17 (Dropout)            (None, 16, 16, 6)    0           conv2d_18[0][0]                  \n",
            "__________________________________________________________________________________________________\n",
            "concatenate_16 (Concatenate)    (None, 16, 16, 30)   0           concatenate_15[0][0]             \n",
            "                                                                 dropout_17[0][0]                 \n",
            "__________________________________________________________________________________________________\n",
            "batch_normalization_18 (BatchNo (None, 16, 16, 30)   120         concatenate_16[0][0]             \n",
            "__________________________________________________________________________________________________\n",
            "activation_18 (Activation)      (None, 16, 16, 30)   0           batch_normalization_18[0][0]     \n",
            "__________________________________________________________________________________________________\n",
            "conv2d_19 (Conv2D)              (None, 16, 16, 6)    1620        activation_18[0][0]              \n",
            "__________________________________________________________________________________________________\n",
            "dropout_18 (Dropout)            (None, 16, 16, 6)    0           conv2d_19[0][0]                  \n",
            "__________________________________________________________________________________________________\n",
            "concatenate_17 (Concatenate)    (None, 16, 16, 36)   0           concatenate_16[0][0]             \n",
            "                                                                 dropout_18[0][0]                 \n",
            "__________________________________________________________________________________________________\n",
            "batch_normalization_19 (BatchNo (None, 16, 16, 36)   144         concatenate_17[0][0]             \n",
            "__________________________________________________________________________________________________\n",
            "activation_19 (Activation)      (None, 16, 16, 36)   0           batch_normalization_19[0][0]     \n",
            "__________________________________________________________________________________________________\n",
            "conv2d_20 (Conv2D)              (None, 16, 16, 6)    1944        activation_19[0][0]              \n",
            "__________________________________________________________________________________________________\n",
            "dropout_19 (Dropout)            (None, 16, 16, 6)    0           conv2d_20[0][0]                  \n",
            "__________________________________________________________________________________________________\n",
            "concatenate_18 (Concatenate)    (None, 16, 16, 42)   0           concatenate_17[0][0]             \n",
            "                                                                 dropout_19[0][0]                 \n",
            "__________________________________________________________________________________________________\n",
            "batch_normalization_20 (BatchNo (None, 16, 16, 42)   168         concatenate_18[0][0]             \n",
            "__________________________________________________________________________________________________\n",
            "activation_20 (Activation)      (None, 16, 16, 42)   0           batch_normalization_20[0][0]     \n",
            "__________________________________________________________________________________________________\n",
            "conv2d_21 (Conv2D)              (None, 16, 16, 6)    2268        activation_20[0][0]              \n",
            "__________________________________________________________________________________________________\n",
            "dropout_20 (Dropout)            (None, 16, 16, 6)    0           conv2d_21[0][0]                  \n",
            "__________________________________________________________________________________________________\n",
            "concatenate_19 (Concatenate)    (None, 16, 16, 48)   0           concatenate_18[0][0]             \n",
            "                                                                 dropout_20[0][0]                 \n",
            "__________________________________________________________________________________________________\n",
            "batch_normalization_21 (BatchNo (None, 16, 16, 48)   192         concatenate_19[0][0]             \n",
            "__________________________________________________________________________________________________\n",
            "activation_21 (Activation)      (None, 16, 16, 48)   0           batch_normalization_21[0][0]     \n",
            "__________________________________________________________________________________________________\n",
            "conv2d_22 (Conv2D)              (None, 16, 16, 6)    2592        activation_21[0][0]              \n",
            "__________________________________________________________________________________________________\n",
            "dropout_21 (Dropout)            (None, 16, 16, 6)    0           conv2d_22[0][0]                  \n",
            "__________________________________________________________________________________________________\n",
            "concatenate_20 (Concatenate)    (None, 16, 16, 54)   0           concatenate_19[0][0]             \n",
            "                                                                 dropout_21[0][0]                 \n",
            "__________________________________________________________________________________________________\n",
            "batch_normalization_22 (BatchNo (None, 16, 16, 54)   216         concatenate_20[0][0]             \n",
            "__________________________________________________________________________________________________\n",
            "activation_22 (Activation)      (None, 16, 16, 54)   0           batch_normalization_22[0][0]     \n",
            "__________________________________________________________________________________________________\n",
            "conv2d_23 (Conv2D)              (None, 16, 16, 6)    2916        activation_22[0][0]              \n",
            "__________________________________________________________________________________________________\n",
            "dropout_22 (Dropout)            (None, 16, 16, 6)    0           conv2d_23[0][0]                  \n",
            "__________________________________________________________________________________________________\n",
            "concatenate_21 (Concatenate)    (None, 16, 16, 60)   0           concatenate_20[0][0]             \n",
            "                                                                 dropout_22[0][0]                 \n",
            "__________________________________________________________________________________________________\n",
            "batch_normalization_23 (BatchNo (None, 16, 16, 60)   240         concatenate_21[0][0]             \n",
            "__________________________________________________________________________________________________\n",
            "activation_23 (Activation)      (None, 16, 16, 60)   0           batch_normalization_23[0][0]     \n",
            "__________________________________________________________________________________________________\n",
            "conv2d_24 (Conv2D)              (None, 16, 16, 6)    3240        activation_23[0][0]              \n",
            "__________________________________________________________________________________________________\n",
            "dropout_23 (Dropout)            (None, 16, 16, 6)    0           conv2d_24[0][0]                  \n",
            "__________________________________________________________________________________________________\n",
            "concatenate_22 (Concatenate)    (None, 16, 16, 66)   0           concatenate_21[0][0]             \n",
            "                                                                 dropout_23[0][0]                 \n",
            "__________________________________________________________________________________________________\n",
            "batch_normalization_24 (BatchNo (None, 16, 16, 66)   264         concatenate_22[0][0]             \n",
            "__________________________________________________________________________________________________\n",
            "activation_24 (Activation)      (None, 16, 16, 66)   0           batch_normalization_24[0][0]     \n",
            "__________________________________________________________________________________________________\n",
            "conv2d_25 (Conv2D)              (None, 16, 16, 6)    3564        activation_24[0][0]              \n",
            "__________________________________________________________________________________________________\n",
            "dropout_24 (Dropout)            (None, 16, 16, 6)    0           conv2d_25[0][0]                  \n",
            "__________________________________________________________________________________________________\n",
            "concatenate_23 (Concatenate)    (None, 16, 16, 72)   0           concatenate_22[0][0]             \n",
            "                                                                 dropout_24[0][0]                 \n",
            "__________________________________________________________________________________________________\n",
            "batch_normalization_25 (BatchNo (None, 16, 16, 72)   288         concatenate_23[0][0]             \n",
            "__________________________________________________________________________________________________\n",
            "activation_25 (Activation)      (None, 16, 16, 72)   0           batch_normalization_25[0][0]     \n",
            "__________________________________________________________________________________________________\n",
            "conv2d_26 (Conv2D)              (None, 16, 16, 6)    3888        activation_25[0][0]              \n",
            "__________________________________________________________________________________________________\n",
            "dropout_25 (Dropout)            (None, 16, 16, 6)    0           conv2d_26[0][0]                  \n",
            "__________________________________________________________________________________________________\n",
            "concatenate_24 (Concatenate)    (None, 16, 16, 78)   0           concatenate_23[0][0]             \n",
            "                                                                 dropout_25[0][0]                 \n",
            "__________________________________________________________________________________________________\n",
            "batch_normalization_26 (BatchNo (None, 16, 16, 78)   312         concatenate_24[0][0]             \n",
            "__________________________________________________________________________________________________\n",
            "activation_26 (Activation)      (None, 16, 16, 78)   0           batch_normalization_26[0][0]     \n",
            "__________________________________________________________________________________________________\n",
            "conv2d_27 (Conv2D)              (None, 16, 16, 6)    468         activation_26[0][0]              \n",
            "__________________________________________________________________________________________________\n",
            "dropout_26 (Dropout)            (None, 16, 16, 6)    0           conv2d_27[0][0]                  \n",
            "__________________________________________________________________________________________________\n",
            "average_pooling2d_2 (AveragePoo (None, 8, 8, 6)      0           dropout_26[0][0]                 \n",
            "__________________________________________________________________________________________________\n",
            "batch_normalization_27 (BatchNo (None, 8, 8, 6)      24          average_pooling2d_2[0][0]        \n",
            "__________________________________________________________________________________________________\n",
            "activation_27 (Activation)      (None, 8, 8, 6)      0           batch_normalization_27[0][0]     \n",
            "__________________________________________________________________________________________________\n",
            "conv2d_28 (Conv2D)              (None, 8, 8, 6)      324         activation_27[0][0]              \n",
            "__________________________________________________________________________________________________\n",
            "dropout_27 (Dropout)            (None, 8, 8, 6)      0           conv2d_28[0][0]                  \n",
            "__________________________________________________________________________________________________\n",
            "concatenate_25 (Concatenate)    (None, 8, 8, 12)     0           average_pooling2d_2[0][0]        \n",
            "                                                                 dropout_27[0][0]                 \n",
            "__________________________________________________________________________________________________\n",
            "batch_normalization_28 (BatchNo (None, 8, 8, 12)     48          concatenate_25[0][0]             \n",
            "__________________________________________________________________________________________________\n",
            "activation_28 (Activation)      (None, 8, 8, 12)     0           batch_normalization_28[0][0]     \n",
            "__________________________________________________________________________________________________\n",
            "conv2d_29 (Conv2D)              (None, 8, 8, 6)      648         activation_28[0][0]              \n",
            "__________________________________________________________________________________________________\n",
            "dropout_28 (Dropout)            (None, 8, 8, 6)      0           conv2d_29[0][0]                  \n",
            "__________________________________________________________________________________________________\n",
            "concatenate_26 (Concatenate)    (None, 8, 8, 18)     0           concatenate_25[0][0]             \n",
            "                                                                 dropout_28[0][0]                 \n",
            "__________________________________________________________________________________________________\n",
            "batch_normalization_29 (BatchNo (None, 8, 8, 18)     72          concatenate_26[0][0]             \n",
            "__________________________________________________________________________________________________\n",
            "activation_29 (Activation)      (None, 8, 8, 18)     0           batch_normalization_29[0][0]     \n",
            "__________________________________________________________________________________________________\n",
            "conv2d_30 (Conv2D)              (None, 8, 8, 6)      972         activation_29[0][0]              \n",
            "__________________________________________________________________________________________________\n",
            "dropout_29 (Dropout)            (None, 8, 8, 6)      0           conv2d_30[0][0]                  \n",
            "__________________________________________________________________________________________________\n",
            "concatenate_27 (Concatenate)    (None, 8, 8, 24)     0           concatenate_26[0][0]             \n",
            "                                                                 dropout_29[0][0]                 \n",
            "__________________________________________________________________________________________________\n",
            "batch_normalization_30 (BatchNo (None, 8, 8, 24)     96          concatenate_27[0][0]             \n",
            "__________________________________________________________________________________________________\n",
            "activation_30 (Activation)      (None, 8, 8, 24)     0           batch_normalization_30[0][0]     \n",
            "__________________________________________________________________________________________________\n",
            "conv2d_31 (Conv2D)              (None, 8, 8, 6)      1296        activation_30[0][0]              \n",
            "__________________________________________________________________________________________________\n",
            "dropout_30 (Dropout)            (None, 8, 8, 6)      0           conv2d_31[0][0]                  \n",
            "__________________________________________________________________________________________________\n",
            "concatenate_28 (Concatenate)    (None, 8, 8, 30)     0           concatenate_27[0][0]             \n",
            "                                                                 dropout_30[0][0]                 \n",
            "__________________________________________________________________________________________________\n",
            "batch_normalization_31 (BatchNo (None, 8, 8, 30)     120         concatenate_28[0][0]             \n",
            "__________________________________________________________________________________________________\n",
            "activation_31 (Activation)      (None, 8, 8, 30)     0           batch_normalization_31[0][0]     \n",
            "__________________________________________________________________________________________________\n",
            "conv2d_32 (Conv2D)              (None, 8, 8, 6)      1620        activation_31[0][0]              \n",
            "__________________________________________________________________________________________________\n",
            "dropout_31 (Dropout)            (None, 8, 8, 6)      0           conv2d_32[0][0]                  \n",
            "__________________________________________________________________________________________________\n",
            "concatenate_29 (Concatenate)    (None, 8, 8, 36)     0           concatenate_28[0][0]             \n",
            "                                                                 dropout_31[0][0]                 \n",
            "__________________________________________________________________________________________________\n",
            "batch_normalization_32 (BatchNo (None, 8, 8, 36)     144         concatenate_29[0][0]             \n",
            "__________________________________________________________________________________________________\n",
            "activation_32 (Activation)      (None, 8, 8, 36)     0           batch_normalization_32[0][0]     \n",
            "__________________________________________________________________________________________________\n",
            "conv2d_33 (Conv2D)              (None, 8, 8, 6)      1944        activation_32[0][0]              \n",
            "__________________________________________________________________________________________________\n",
            "dropout_32 (Dropout)            (None, 8, 8, 6)      0           conv2d_33[0][0]                  \n",
            "__________________________________________________________________________________________________\n",
            "concatenate_30 (Concatenate)    (None, 8, 8, 42)     0           concatenate_29[0][0]             \n",
            "                                                                 dropout_32[0][0]                 \n",
            "__________________________________________________________________________________________________\n",
            "batch_normalization_33 (BatchNo (None, 8, 8, 42)     168         concatenate_30[0][0]             \n",
            "__________________________________________________________________________________________________\n",
            "activation_33 (Activation)      (None, 8, 8, 42)     0           batch_normalization_33[0][0]     \n",
            "__________________________________________________________________________________________________\n",
            "conv2d_34 (Conv2D)              (None, 8, 8, 6)      2268        activation_33[0][0]              \n",
            "__________________________________________________________________________________________________\n",
            "dropout_33 (Dropout)            (None, 8, 8, 6)      0           conv2d_34[0][0]                  \n",
            "__________________________________________________________________________________________________\n",
            "concatenate_31 (Concatenate)    (None, 8, 8, 48)     0           concatenate_30[0][0]             \n",
            "                                                                 dropout_33[0][0]                 \n",
            "__________________________________________________________________________________________________\n",
            "batch_normalization_34 (BatchNo (None, 8, 8, 48)     192         concatenate_31[0][0]             \n",
            "__________________________________________________________________________________________________\n",
            "activation_34 (Activation)      (None, 8, 8, 48)     0           batch_normalization_34[0][0]     \n",
            "__________________________________________________________________________________________________\n",
            "conv2d_35 (Conv2D)              (None, 8, 8, 6)      2592        activation_34[0][0]              \n",
            "__________________________________________________________________________________________________\n",
            "dropout_34 (Dropout)            (None, 8, 8, 6)      0           conv2d_35[0][0]                  \n",
            "__________________________________________________________________________________________________\n",
            "concatenate_32 (Concatenate)    (None, 8, 8, 54)     0           concatenate_31[0][0]             \n",
            "                                                                 dropout_34[0][0]                 \n",
            "__________________________________________________________________________________________________\n",
            "batch_normalization_35 (BatchNo (None, 8, 8, 54)     216         concatenate_32[0][0]             \n",
            "__________________________________________________________________________________________________\n",
            "activation_35 (Activation)      (None, 8, 8, 54)     0           batch_normalization_35[0][0]     \n",
            "__________________________________________________________________________________________________\n",
            "conv2d_36 (Conv2D)              (None, 8, 8, 6)      2916        activation_35[0][0]              \n",
            "__________________________________________________________________________________________________\n",
            "dropout_35 (Dropout)            (None, 8, 8, 6)      0           conv2d_36[0][0]                  \n",
            "__________________________________________________________________________________________________\n",
            "concatenate_33 (Concatenate)    (None, 8, 8, 60)     0           concatenate_32[0][0]             \n",
            "                                                                 dropout_35[0][0]                 \n",
            "__________________________________________________________________________________________________\n",
            "batch_normalization_36 (BatchNo (None, 8, 8, 60)     240         concatenate_33[0][0]             \n",
            "__________________________________________________________________________________________________\n",
            "activation_36 (Activation)      (None, 8, 8, 60)     0           batch_normalization_36[0][0]     \n",
            "__________________________________________________________________________________________________\n",
            "conv2d_37 (Conv2D)              (None, 8, 8, 6)      3240        activation_36[0][0]              \n",
            "__________________________________________________________________________________________________\n",
            "dropout_36 (Dropout)            (None, 8, 8, 6)      0           conv2d_37[0][0]                  \n",
            "__________________________________________________________________________________________________\n",
            "concatenate_34 (Concatenate)    (None, 8, 8, 66)     0           concatenate_33[0][0]             \n",
            "                                                                 dropout_36[0][0]                 \n",
            "__________________________________________________________________________________________________\n",
            "batch_normalization_37 (BatchNo (None, 8, 8, 66)     264         concatenate_34[0][0]             \n",
            "__________________________________________________________________________________________________\n",
            "activation_37 (Activation)      (None, 8, 8, 66)     0           batch_normalization_37[0][0]     \n",
            "__________________________________________________________________________________________________\n",
            "conv2d_38 (Conv2D)              (None, 8, 8, 6)      3564        activation_37[0][0]              \n",
            "__________________________________________________________________________________________________\n",
            "dropout_37 (Dropout)            (None, 8, 8, 6)      0           conv2d_38[0][0]                  \n",
            "__________________________________________________________________________________________________\n",
            "concatenate_35 (Concatenate)    (None, 8, 8, 72)     0           concatenate_34[0][0]             \n",
            "                                                                 dropout_37[0][0]                 \n",
            "__________________________________________________________________________________________________\n",
            "batch_normalization_38 (BatchNo (None, 8, 8, 72)     288         concatenate_35[0][0]             \n",
            "__________________________________________________________________________________________________\n",
            "activation_38 (Activation)      (None, 8, 8, 72)     0           batch_normalization_38[0][0]     \n",
            "__________________________________________________________________________________________________\n",
            "conv2d_39 (Conv2D)              (None, 8, 8, 6)      3888        activation_38[0][0]              \n",
            "__________________________________________________________________________________________________\n",
            "dropout_38 (Dropout)            (None, 8, 8, 6)      0           conv2d_39[0][0]                  \n",
            "__________________________________________________________________________________________________\n",
            "concatenate_36 (Concatenate)    (None, 8, 8, 78)     0           concatenate_35[0][0]             \n",
            "                                                                 dropout_38[0][0]                 \n",
            "__________________________________________________________________________________________________\n",
            "batch_normalization_39 (BatchNo (None, 8, 8, 78)     312         concatenate_36[0][0]             \n",
            "__________________________________________________________________________________________________\n",
            "activation_39 (Activation)      (None, 8, 8, 78)     0           batch_normalization_39[0][0]     \n",
            "__________________________________________________________________________________________________\n",
            "conv2d_40 (Conv2D)              (None, 8, 8, 6)      468         activation_39[0][0]              \n",
            "__________________________________________________________________________________________________\n",
            "dropout_39 (Dropout)            (None, 8, 8, 6)      0           conv2d_40[0][0]                  \n",
            "__________________________________________________________________________________________________\n",
            "average_pooling2d_3 (AveragePoo (None, 4, 4, 6)      0           dropout_39[0][0]                 \n",
            "__________________________________________________________________________________________________\n",
            "batch_normalization_40 (BatchNo (None, 4, 4, 6)      24          average_pooling2d_3[0][0]        \n",
            "__________________________________________________________________________________________________\n",
            "activation_40 (Activation)      (None, 4, 4, 6)      0           batch_normalization_40[0][0]     \n",
            "__________________________________________________________________________________________________\n",
            "conv2d_41 (Conv2D)              (None, 4, 4, 6)      324         activation_40[0][0]              \n",
            "__________________________________________________________________________________________________\n",
            "dropout_40 (Dropout)            (None, 4, 4, 6)      0           conv2d_41[0][0]                  \n",
            "__________________________________________________________________________________________________\n",
            "concatenate_37 (Concatenate)    (None, 4, 4, 12)     0           average_pooling2d_3[0][0]        \n",
            "                                                                 dropout_40[0][0]                 \n",
            "__________________________________________________________________________________________________\n",
            "batch_normalization_41 (BatchNo (None, 4, 4, 12)     48          concatenate_37[0][0]             \n",
            "__________________________________________________________________________________________________\n",
            "activation_41 (Activation)      (None, 4, 4, 12)     0           batch_normalization_41[0][0]     \n",
            "__________________________________________________________________________________________________\n",
            "conv2d_42 (Conv2D)              (None, 4, 4, 6)      648         activation_41[0][0]              \n",
            "__________________________________________________________________________________________________\n",
            "dropout_41 (Dropout)            (None, 4, 4, 6)      0           conv2d_42[0][0]                  \n",
            "__________________________________________________________________________________________________\n",
            "concatenate_38 (Concatenate)    (None, 4, 4, 18)     0           concatenate_37[0][0]             \n",
            "                                                                 dropout_41[0][0]                 \n",
            "__________________________________________________________________________________________________\n",
            "batch_normalization_42 (BatchNo (None, 4, 4, 18)     72          concatenate_38[0][0]             \n",
            "__________________________________________________________________________________________________\n",
            "activation_42 (Activation)      (None, 4, 4, 18)     0           batch_normalization_42[0][0]     \n",
            "__________________________________________________________________________________________________\n",
            "conv2d_43 (Conv2D)              (None, 4, 4, 6)      972         activation_42[0][0]              \n",
            "__________________________________________________________________________________________________\n",
            "dropout_42 (Dropout)            (None, 4, 4, 6)      0           conv2d_43[0][0]                  \n",
            "__________________________________________________________________________________________________\n",
            "concatenate_39 (Concatenate)    (None, 4, 4, 24)     0           concatenate_38[0][0]             \n",
            "                                                                 dropout_42[0][0]                 \n",
            "__________________________________________________________________________________________________\n",
            "batch_normalization_43 (BatchNo (None, 4, 4, 24)     96          concatenate_39[0][0]             \n",
            "__________________________________________________________________________________________________\n",
            "activation_43 (Activation)      (None, 4, 4, 24)     0           batch_normalization_43[0][0]     \n",
            "__________________________________________________________________________________________________\n",
            "conv2d_44 (Conv2D)              (None, 4, 4, 6)      1296        activation_43[0][0]              \n",
            "__________________________________________________________________________________________________\n",
            "dropout_43 (Dropout)            (None, 4, 4, 6)      0           conv2d_44[0][0]                  \n",
            "__________________________________________________________________________________________________\n",
            "concatenate_40 (Concatenate)    (None, 4, 4, 30)     0           concatenate_39[0][0]             \n",
            "                                                                 dropout_43[0][0]                 \n",
            "__________________________________________________________________________________________________\n",
            "batch_normalization_44 (BatchNo (None, 4, 4, 30)     120         concatenate_40[0][0]             \n",
            "__________________________________________________________________________________________________\n",
            "activation_44 (Activation)      (None, 4, 4, 30)     0           batch_normalization_44[0][0]     \n",
            "__________________________________________________________________________________________________\n",
            "conv2d_45 (Conv2D)              (None, 4, 4, 6)      1620        activation_44[0][0]              \n",
            "__________________________________________________________________________________________________\n",
            "dropout_44 (Dropout)            (None, 4, 4, 6)      0           conv2d_45[0][0]                  \n",
            "__________________________________________________________________________________________________\n",
            "concatenate_41 (Concatenate)    (None, 4, 4, 36)     0           concatenate_40[0][0]             \n",
            "                                                                 dropout_44[0][0]                 \n",
            "__________________________________________________________________________________________________\n",
            "batch_normalization_45 (BatchNo (None, 4, 4, 36)     144         concatenate_41[0][0]             \n",
            "__________________________________________________________________________________________________\n",
            "activation_45 (Activation)      (None, 4, 4, 36)     0           batch_normalization_45[0][0]     \n",
            "__________________________________________________________________________________________________\n",
            "conv2d_46 (Conv2D)              (None, 4, 4, 6)      1944        activation_45[0][0]              \n",
            "__________________________________________________________________________________________________\n",
            "dropout_45 (Dropout)            (None, 4, 4, 6)      0           conv2d_46[0][0]                  \n",
            "__________________________________________________________________________________________________\n",
            "concatenate_42 (Concatenate)    (None, 4, 4, 42)     0           concatenate_41[0][0]             \n",
            "                                                                 dropout_45[0][0]                 \n",
            "__________________________________________________________________________________________________\n",
            "batch_normalization_46 (BatchNo (None, 4, 4, 42)     168         concatenate_42[0][0]             \n",
            "__________________________________________________________________________________________________\n",
            "activation_46 (Activation)      (None, 4, 4, 42)     0           batch_normalization_46[0][0]     \n",
            "__________________________________________________________________________________________________\n",
            "conv2d_47 (Conv2D)              (None, 4, 4, 6)      2268        activation_46[0][0]              \n",
            "__________________________________________________________________________________________________\n",
            "dropout_46 (Dropout)            (None, 4, 4, 6)      0           conv2d_47[0][0]                  \n",
            "__________________________________________________________________________________________________\n",
            "concatenate_43 (Concatenate)    (None, 4, 4, 48)     0           concatenate_42[0][0]             \n",
            "                                                                 dropout_46[0][0]                 \n",
            "__________________________________________________________________________________________________\n",
            "batch_normalization_47 (BatchNo (None, 4, 4, 48)     192         concatenate_43[0][0]             \n",
            "__________________________________________________________________________________________________\n",
            "activation_47 (Activation)      (None, 4, 4, 48)     0           batch_normalization_47[0][0]     \n",
            "__________________________________________________________________________________________________\n",
            "conv2d_48 (Conv2D)              (None, 4, 4, 6)      2592        activation_47[0][0]              \n",
            "__________________________________________________________________________________________________\n",
            "dropout_47 (Dropout)            (None, 4, 4, 6)      0           conv2d_48[0][0]                  \n",
            "__________________________________________________________________________________________________\n",
            "concatenate_44 (Concatenate)    (None, 4, 4, 54)     0           concatenate_43[0][0]             \n",
            "                                                                 dropout_47[0][0]                 \n",
            "__________________________________________________________________________________________________\n",
            "batch_normalization_48 (BatchNo (None, 4, 4, 54)     216         concatenate_44[0][0]             \n",
            "__________________________________________________________________________________________________\n",
            "activation_48 (Activation)      (None, 4, 4, 54)     0           batch_normalization_48[0][0]     \n",
            "__________________________________________________________________________________________________\n",
            "conv2d_49 (Conv2D)              (None, 4, 4, 6)      2916        activation_48[0][0]              \n",
            "__________________________________________________________________________________________________\n",
            "dropout_48 (Dropout)            (None, 4, 4, 6)      0           conv2d_49[0][0]                  \n",
            "__________________________________________________________________________________________________\n",
            "concatenate_45 (Concatenate)    (None, 4, 4, 60)     0           concatenate_44[0][0]             \n",
            "                                                                 dropout_48[0][0]                 \n",
            "__________________________________________________________________________________________________\n",
            "batch_normalization_49 (BatchNo (None, 4, 4, 60)     240         concatenate_45[0][0]             \n",
            "__________________________________________________________________________________________________\n",
            "activation_49 (Activation)      (None, 4, 4, 60)     0           batch_normalization_49[0][0]     \n",
            "__________________________________________________________________________________________________\n",
            "conv2d_50 (Conv2D)              (None, 4, 4, 6)      3240        activation_49[0][0]              \n",
            "__________________________________________________________________________________________________\n",
            "dropout_49 (Dropout)            (None, 4, 4, 6)      0           conv2d_50[0][0]                  \n",
            "__________________________________________________________________________________________________\n",
            "concatenate_46 (Concatenate)    (None, 4, 4, 66)     0           concatenate_45[0][0]             \n",
            "                                                                 dropout_49[0][0]                 \n",
            "__________________________________________________________________________________________________\n",
            "batch_normalization_50 (BatchNo (None, 4, 4, 66)     264         concatenate_46[0][0]             \n",
            "__________________________________________________________________________________________________\n",
            "activation_50 (Activation)      (None, 4, 4, 66)     0           batch_normalization_50[0][0]     \n",
            "__________________________________________________________________________________________________\n",
            "conv2d_51 (Conv2D)              (None, 4, 4, 6)      3564        activation_50[0][0]              \n",
            "__________________________________________________________________________________________________\n",
            "dropout_50 (Dropout)            (None, 4, 4, 6)      0           conv2d_51[0][0]                  \n",
            "__________________________________________________________________________________________________\n",
            "concatenate_47 (Concatenate)    (None, 4, 4, 72)     0           concatenate_46[0][0]             \n",
            "                                                                 dropout_50[0][0]                 \n",
            "__________________________________________________________________________________________________\n",
            "batch_normalization_51 (BatchNo (None, 4, 4, 72)     288         concatenate_47[0][0]             \n",
            "__________________________________________________________________________________________________\n",
            "activation_51 (Activation)      (None, 4, 4, 72)     0           batch_normalization_51[0][0]     \n",
            "__________________________________________________________________________________________________\n",
            "conv2d_52 (Conv2D)              (None, 4, 4, 6)      3888        activation_51[0][0]              \n",
            "__________________________________________________________________________________________________\n",
            "dropout_51 (Dropout)            (None, 4, 4, 6)      0           conv2d_52[0][0]                  \n",
            "__________________________________________________________________________________________________\n",
            "concatenate_48 (Concatenate)    (None, 4, 4, 78)     0           concatenate_47[0][0]             \n",
            "                                                                 dropout_51[0][0]                 \n",
            "__________________________________________________________________________________________________\n",
            "batch_normalization_52 (BatchNo (None, 4, 4, 78)     312         concatenate_48[0][0]             \n",
            "__________________________________________________________________________________________________\n",
            "activation_52 (Activation)      (None, 4, 4, 78)     0           batch_normalization_52[0][0]     \n",
            "__________________________________________________________________________________________________\n",
            "average_pooling2d_4 (AveragePoo (None, 2, 2, 78)     0           activation_52[0][0]              \n",
            "__________________________________________________________________________________________________\n",
            "flatten_1 (Flatten)             (None, 312)          0           average_pooling2d_4[0][0]        \n",
            "__________________________________________________________________________________________________\n",
            "dense_1 (Dense)                 (None, 10)           3130        flatten_1[0][0]                  \n",
            "==================================================================================================\n",
            "Total params: 118,918\n",
            "Trainable params: 114,394\n",
            "Non-trainable params: 4,524\n",
            "__________________________________________________________________________________________________\n"
          ],
          "name": "stdout"
        }
      ]
    },
    {
      "metadata": {
        "id": "b4XOsW3ahSkL",
        "colab_type": "code",
        "colab": {}
      },
      "cell_type": "code",
      "source": [
        "# determine Loss function and Optimizer\n",
        "model.compile(loss='categorical_crossentropy',\n",
        "              optimizer= 'adam',\n",
        "              metrics=['accuracy'])"
      ],
      "execution_count": 0,
      "outputs": []
    },
    {
      "metadata": {
        "id": "crhGk7kEhXAz",
        "colab_type": "code",
        "colab": {
          "base_uri": "https://localhost:8080/",
          "height": 5171
        },
        "outputId": "930f0c1c-a128-4218-c23b-7ecb204d2138"
      },
      "cell_type": "code",
      "source": [
        "model.fit(x_train, y_train,\n",
        "                    batch_size=batch_size,\n",
        "                    epochs=epochs,\n",
        "                    verbose=1,\n",
        "                    validation_data=(x_test, y_test))"
      ],
      "execution_count": 12,
      "outputs": [
        {
          "output_type": "stream",
          "text": [
            "Train on 50000 samples, validate on 10000 samples\n",
            "Epoch 1/150\n",
            "50000/50000 [==============================] - 144s 3ms/step - loss: 1.7573 - acc: 0.3404 - val_loss: 2.1865 - val_acc: 0.3219\n",
            "Epoch 2/150\n",
            "44000/50000 [=========================>....] - ETA: 14s - loss: 1.3960 - acc: 0.4866"
          ],
          "name": "stdout"
        },
        {
          "output_type": "stream",
          "text": [
            "50000/50000 [==============================] - 131s 3ms/step - loss: 1.3871 - acc: 0.4889 - val_loss: 1.5146 - val_acc: 0.4822\n",
            "Epoch 3/150\n",
            "50000/50000 [==============================] - 131s 3ms/step - loss: 1.2381 - acc: 0.5475 - val_loss: 1.5219 - val_acc: 0.4869\n",
            "Epoch 4/150\n",
            "22600/50000 [============>.................] - ETA: 1:07 - loss: 1.1770 - acc: 0.5707"
          ],
          "name": "stdout"
        },
        {
          "output_type": "stream",
          "text": [
            "50000/50000 [==============================] - 131s 3ms/step - loss: 1.1573 - acc: 0.5782 - val_loss: 1.2615 - val_acc: 0.5668\n",
            "Epoch 5/150\n",
            "50000/50000 [==============================] - 131s 3ms/step - loss: 1.1023 - acc: 0.6007 - val_loss: 1.1833 - val_acc: 0.5903\n",
            "Epoch 6/150\n",
            "17600/50000 [=========>....................] - ETA: 1:20 - loss: 1.0648 - acc: 0.6077"
          ],
          "name": "stdout"
        },
        {
          "output_type": "stream",
          "text": [
            "50000/50000 [==============================] - 131s 3ms/step - loss: 1.0480 - acc: 0.6181 - val_loss: 1.0847 - val_acc: 0.6166\n",
            "Epoch 7/150\n",
            "50000/50000 [==============================] - 131s 3ms/step - loss: 1.0091 - acc: 0.6335 - val_loss: 1.1991 - val_acc: 0.5875\n",
            "Epoch 8/150\n",
            "16400/50000 [========>.....................] - ETA: 1:23 - loss: 0.9842 - acc: 0.6431"
          ],
          "name": "stdout"
        },
        {
          "output_type": "stream",
          "text": [
            "50000/50000 [==============================] - 131s 3ms/step - loss: 0.9755 - acc: 0.6492 - val_loss: 1.2182 - val_acc: 0.5883\n",
            "Epoch 9/150\n",
            "50000/50000 [==============================] - 131s 3ms/step - loss: 0.9403 - acc: 0.6609 - val_loss: 1.8296 - val_acc: 0.5092\n",
            "Epoch 10/150\n",
            "16000/50000 [========>.....................] - ETA: 1:24 - loss: 0.9266 - acc: 0.6654"
          ],
          "name": "stdout"
        },
        {
          "output_type": "stream",
          "text": [
            "50000/50000 [==============================] - 131s 3ms/step - loss: 0.9198 - acc: 0.6687 - val_loss: 1.1610 - val_acc: 0.6272\n",
            "Epoch 11/150\n",
            "50000/50000 [==============================] - 131s 3ms/step - loss: 0.8907 - acc: 0.6783 - val_loss: 0.9510 - val_acc: 0.6750\n",
            "Epoch 12/150\n",
            "15800/50000 [========>.....................] - ETA: 1:24 - loss: 0.8742 - acc: 0.6843"
          ],
          "name": "stdout"
        },
        {
          "output_type": "stream",
          "text": [
            "50000/50000 [==============================] - 131s 3ms/step - loss: 0.8707 - acc: 0.6859 - val_loss: 1.2587 - val_acc: 0.6234\n",
            "Epoch 13/150\n",
            "50000/50000 [==============================] - 131s 3ms/step - loss: 0.8536 - acc: 0.6933 - val_loss: 0.9143 - val_acc: 0.6898\n",
            "Epoch 14/150\n",
            "15800/50000 [========>.....................] - ETA: 1:24 - loss: 0.8218 - acc: 0.7035"
          ],
          "name": "stdout"
        },
        {
          "output_type": "stream",
          "text": [
            "50000/50000 [==============================] - 131s 3ms/step - loss: 0.8298 - acc: 0.7012 - val_loss: 0.9460 - val_acc: 0.6783\n",
            "Epoch 15/150\n",
            "50000/50000 [==============================] - 131s 3ms/step - loss: 0.8114 - acc: 0.7087 - val_loss: 1.0972 - val_acc: 0.6532\n",
            "Epoch 16/150\n",
            "15800/50000 [========>.....................] - ETA: 1:24 - loss: 0.7923 - acc: 0.7135"
          ],
          "name": "stdout"
        },
        {
          "output_type": "stream",
          "text": [
            "50000/50000 [==============================] - 130s 3ms/step - loss: 0.7936 - acc: 0.7148 - val_loss: 0.9267 - val_acc: 0.6858\n",
            "Epoch 17/150\n",
            "50000/50000 [==============================] - 131s 3ms/step - loss: 0.7768 - acc: 0.7247 - val_loss: 0.9522 - val_acc: 0.6935\n",
            "Epoch 18/150\n",
            "15800/50000 [========>.....................] - ETA: 1:24 - loss: 0.7617 - acc: 0.7249"
          ],
          "name": "stdout"
        },
        {
          "output_type": "stream",
          "text": [
            "50000/50000 [==============================] - 131s 3ms/step - loss: 0.7586 - acc: 0.7288 - val_loss: 0.9923 - val_acc: 0.6819\n",
            "Epoch 19/150\n",
            "50000/50000 [==============================] - 130s 3ms/step - loss: 0.7485 - acc: 0.7341 - val_loss: 1.0439 - val_acc: 0.6765\n",
            "Epoch 20/150\n",
            "15800/50000 [========>.....................] - ETA: 1:24 - loss: 0.7184 - acc: 0.7455"
          ],
          "name": "stdout"
        },
        {
          "output_type": "stream",
          "text": [
            "50000/50000 [==============================] - 131s 3ms/step - loss: 0.7305 - acc: 0.7389 - val_loss: 0.8860 - val_acc: 0.7006\n",
            "Epoch 21/150\n",
            "50000/50000 [==============================] - 130s 3ms/step - loss: 0.7173 - acc: 0.7423 - val_loss: 1.0134 - val_acc: 0.6793\n",
            "Epoch 22/150\n",
            "15800/50000 [========>.....................] - ETA: 1:23 - loss: 0.7036 - acc: 0.7488"
          ],
          "name": "stdout"
        },
        {
          "output_type": "stream",
          "text": [
            "50000/50000 [==============================] - 130s 3ms/step - loss: 0.7073 - acc: 0.7480 - val_loss: 0.8341 - val_acc: 0.7315\n",
            "Epoch 23/150\n",
            "50000/50000 [==============================] - 130s 3ms/step - loss: 0.6975 - acc: 0.7541 - val_loss: 0.9947 - val_acc: 0.6981\n",
            "Epoch 24/150\n",
            "15800/50000 [========>.....................] - ETA: 1:23 - loss: 0.6801 - acc: 0.7564"
          ],
          "name": "stdout"
        },
        {
          "output_type": "stream",
          "text": [
            "50000/50000 [==============================] - 130s 3ms/step - loss: 0.6880 - acc: 0.7555 - val_loss: 0.8349 - val_acc: 0.7274\n",
            "Epoch 25/150\n",
            "50000/50000 [==============================] - 130s 3ms/step - loss: 0.6766 - acc: 0.7588 - val_loss: 0.7899 - val_acc: 0.7386\n",
            "Epoch 26/150\n",
            "15800/50000 [========>.....................] - ETA: 1:24 - loss: 0.6830 - acc: 0.7572"
          ],
          "name": "stdout"
        },
        {
          "output_type": "stream",
          "text": [
            "50000/50000 [==============================] - 131s 3ms/step - loss: 0.6636 - acc: 0.7646 - val_loss: 0.7917 - val_acc: 0.7335\n",
            "Epoch 27/150\n",
            "50000/50000 [==============================] - 130s 3ms/step - loss: 0.6563 - acc: 0.7677 - val_loss: 1.0278 - val_acc: 0.6937\n",
            "Epoch 28/150\n",
            "15800/50000 [========>.....................] - ETA: 1:23 - loss: 0.6614 - acc: 0.7651"
          ],
          "name": "stdout"
        },
        {
          "output_type": "stream",
          "text": [
            "50000/50000 [==============================] - 130s 3ms/step - loss: 0.6535 - acc: 0.7687 - val_loss: 0.7331 - val_acc: 0.7572\n",
            "Epoch 29/150\n",
            "50000/50000 [==============================] - 130s 3ms/step - loss: 0.6447 - acc: 0.7705 - val_loss: 0.9451 - val_acc: 0.7074\n",
            "Epoch 30/150\n",
            "15800/50000 [========>.....................] - ETA: 1:24 - loss: 0.6277 - acc: 0.7782"
          ],
          "name": "stdout"
        },
        {
          "output_type": "stream",
          "text": [
            "50000/50000 [==============================] - 131s 3ms/step - loss: 0.6336 - acc: 0.7757 - val_loss: 0.8065 - val_acc: 0.7418\n",
            "Epoch 31/150\n",
            "50000/50000 [==============================] - 131s 3ms/step - loss: 0.6255 - acc: 0.7799 - val_loss: 0.9250 - val_acc: 0.7178\n",
            "Epoch 32/150\n",
            "15800/50000 [========>.....................] - ETA: 1:24 - loss: 0.6229 - acc: 0.7758"
          ],
          "name": "stdout"
        },
        {
          "output_type": "stream",
          "text": [
            "50000/50000 [==============================] - 131s 3ms/step - loss: 0.6178 - acc: 0.7804 - val_loss: 0.8009 - val_acc: 0.7423\n",
            "Epoch 33/150\n",
            "50000/50000 [==============================] - 131s 3ms/step - loss: 0.6107 - acc: 0.7844 - val_loss: 0.8276 - val_acc: 0.7409\n",
            "Epoch 34/150\n",
            "15800/50000 [========>.....................] - ETA: 1:24 - loss: 0.5875 - acc: 0.7920"
          ],
          "name": "stdout"
        },
        {
          "output_type": "stream",
          "text": [
            "50000/50000 [==============================] - 130s 3ms/step - loss: 0.6013 - acc: 0.7867 - val_loss: 0.7994 - val_acc: 0.7361\n",
            "Epoch 35/150\n",
            "50000/50000 [==============================] - 131s 3ms/step - loss: 0.5968 - acc: 0.7889 - val_loss: 0.7240 - val_acc: 0.7684\n",
            "Epoch 36/150\n",
            "15800/50000 [========>.....................] - ETA: 1:24 - loss: 0.5861 - acc: 0.7901"
          ],
          "name": "stdout"
        },
        {
          "output_type": "stream",
          "text": [
            "50000/50000 [==============================] - 131s 3ms/step - loss: 0.5903 - acc: 0.7919 - val_loss: 0.8388 - val_acc: 0.7420\n",
            "Epoch 37/150\n",
            "50000/50000 [==============================] - 131s 3ms/step - loss: 0.5836 - acc: 0.7937 - val_loss: 0.6757 - val_acc: 0.7822\n",
            "Epoch 38/150\n",
            "15800/50000 [========>.....................] - ETA: 1:24 - loss: 0.5739 - acc: 0.7949"
          ],
          "name": "stdout"
        },
        {
          "output_type": "stream",
          "text": [
            "50000/50000 [==============================] - 131s 3ms/step - loss: 0.5792 - acc: 0.7953 - val_loss: 0.7209 - val_acc: 0.7705\n",
            "Epoch 39/150\n",
            "50000/50000 [==============================] - 131s 3ms/step - loss: 0.5738 - acc: 0.7968 - val_loss: 0.7225 - val_acc: 0.7663\n",
            "Epoch 40/150\n",
            "15800/50000 [========>.....................] - ETA: 1:24 - loss: 0.5593 - acc: 0.8041"
          ],
          "name": "stdout"
        },
        {
          "output_type": "stream",
          "text": [
            "50000/50000 [==============================] - 131s 3ms/step - loss: 0.5684 - acc: 0.8004 - val_loss: 0.8386 - val_acc: 0.7429\n",
            "Epoch 41/150\n",
            "50000/50000 [==============================] - 131s 3ms/step - loss: 0.5625 - acc: 0.8024 - val_loss: 0.7006 - val_acc: 0.7782\n",
            "Epoch 42/150\n",
            "15800/50000 [========>.....................] - ETA: 1:24 - loss: 0.5568 - acc: 0.8040"
          ],
          "name": "stdout"
        },
        {
          "output_type": "stream",
          "text": [
            "50000/50000 [==============================] - 131s 3ms/step - loss: 0.5586 - acc: 0.8039 - val_loss: 0.7808 - val_acc: 0.7586\n",
            "Epoch 43/150\n",
            "50000/50000 [==============================] - 131s 3ms/step - loss: 0.5594 - acc: 0.8021 - val_loss: 0.7318 - val_acc: 0.7695\n",
            "Epoch 44/150\n",
            "15800/50000 [========>.....................] - ETA: 1:24 - loss: 0.5494 - acc: 0.8056"
          ],
          "name": "stdout"
        },
        {
          "output_type": "stream",
          "text": [
            "50000/50000 [==============================] - 131s 3ms/step - loss: 0.5474 - acc: 0.8064 - val_loss: 0.7187 - val_acc: 0.7713\n",
            "Epoch 45/150\n",
            "50000/50000 [==============================] - 130s 3ms/step - loss: 0.5425 - acc: 0.8069 - val_loss: 0.9166 - val_acc: 0.7335\n",
            "Epoch 46/150\n",
            "15800/50000 [========>.....................] - ETA: 1:24 - loss: 0.5364 - acc: 0.8087"
          ],
          "name": "stdout"
        },
        {
          "output_type": "stream",
          "text": [
            "50000/50000 [==============================] - 131s 3ms/step - loss: 0.5438 - acc: 0.8083 - val_loss: 0.8925 - val_acc: 0.7355\n",
            "Epoch 47/150\n",
            "50000/50000 [==============================] - 131s 3ms/step - loss: 0.5351 - acc: 0.8098 - val_loss: 0.7095 - val_acc: 0.7794\n",
            "Epoch 48/150\n",
            "15800/50000 [========>.....................] - ETA: 1:24 - loss: 0.5279 - acc: 0.8117"
          ],
          "name": "stdout"
        },
        {
          "output_type": "stream",
          "text": [
            "50000/50000 [==============================] - 131s 3ms/step - loss: 0.5291 - acc: 0.8126 - val_loss: 0.6367 - val_acc: 0.7961\n",
            "Epoch 49/150\n",
            "50000/50000 [==============================] - 131s 3ms/step - loss: 0.5346 - acc: 0.8100 - val_loss: 0.7577 - val_acc: 0.7571\n",
            "Epoch 50/150\n",
            "15800/50000 [========>.....................] - ETA: 1:24 - loss: 0.5314 - acc: 0.8157"
          ],
          "name": "stdout"
        },
        {
          "output_type": "stream",
          "text": [
            "50000/50000 [==============================] - 130s 3ms/step - loss: 0.5254 - acc: 0.8162 - val_loss: 0.7311 - val_acc: 0.7808\n",
            "Epoch 51/150\n",
            "50000/50000 [==============================] - 131s 3ms/step - loss: 0.5237 - acc: 0.8155 - val_loss: 0.6794 - val_acc: 0.7883\n",
            "Epoch 52/150\n",
            "15800/50000 [========>.....................] - ETA: 1:24 - loss: 0.5164 - acc: 0.8208"
          ],
          "name": "stdout"
        },
        {
          "output_type": "stream",
          "text": [
            "50000/50000 [==============================] - 131s 3ms/step - loss: 0.5186 - acc: 0.8185 - val_loss: 0.6540 - val_acc: 0.7890\n",
            "Epoch 53/150\n",
            "50000/50000 [==============================] - 131s 3ms/step - loss: 0.5133 - acc: 0.8177 - val_loss: 0.6886 - val_acc: 0.7871\n",
            "Epoch 54/150\n",
            "15800/50000 [========>.....................] - ETA: 1:24 - loss: 0.5014 - acc: 0.8220"
          ],
          "name": "stdout"
        },
        {
          "output_type": "stream",
          "text": [
            "50000/50000 [==============================] - 131s 3ms/step - loss: 0.5069 - acc: 0.8205 - val_loss: 0.7527 - val_acc: 0.7709\n",
            "Epoch 55/150\n",
            "50000/50000 [==============================] - 131s 3ms/step - loss: 0.5042 - acc: 0.8239 - val_loss: 0.8133 - val_acc: 0.7605\n",
            "Epoch 56/150\n",
            "15800/50000 [========>.....................] - ETA: 1:24 - loss: 0.5068 - acc: 0.8215"
          ],
          "name": "stdout"
        },
        {
          "output_type": "stream",
          "text": [
            "50000/50000 [==============================] - 131s 3ms/step - loss: 0.5070 - acc: 0.8228 - val_loss: 0.7566 - val_acc: 0.7736\n",
            "Epoch 57/150\n",
            "50000/50000 [==============================] - 131s 3ms/step - loss: 0.4984 - acc: 0.8246 - val_loss: 0.6306 - val_acc: 0.8048\n",
            "Epoch 58/150\n",
            "15800/50000 [========>.....................] - ETA: 1:24 - loss: 0.5029 - acc: 0.8204"
          ],
          "name": "stdout"
        },
        {
          "output_type": "stream",
          "text": [
            "50000/50000 [==============================] - 131s 3ms/step - loss: 0.5051 - acc: 0.8208 - val_loss: 0.8245 - val_acc: 0.7613\n",
            "Epoch 59/150\n",
            "50000/50000 [==============================] - 130s 3ms/step - loss: 0.4979 - acc: 0.8246 - val_loss: 0.6844 - val_acc: 0.7898\n",
            "Epoch 60/150\n",
            "15800/50000 [========>.....................] - ETA: 1:24 - loss: 0.4857 - acc: 0.8293"
          ],
          "name": "stdout"
        },
        {
          "output_type": "stream",
          "text": [
            "50000/50000 [==============================] - 130s 3ms/step - loss: 0.4908 - acc: 0.8272 - val_loss: 0.6179 - val_acc: 0.8063\n",
            "Epoch 61/150\n",
            "50000/50000 [==============================] - 130s 3ms/step - loss: 0.4908 - acc: 0.8259 - val_loss: 0.8378 - val_acc: 0.7620\n",
            "Epoch 62/150\n",
            "15800/50000 [========>.....................] - ETA: 1:23 - loss: 0.4941 - acc: 0.8294"
          ],
          "name": "stdout"
        },
        {
          "output_type": "stream",
          "text": [
            "50000/50000 [==============================] - 130s 3ms/step - loss: 0.4859 - acc: 0.8304 - val_loss: 0.6620 - val_acc: 0.7965\n",
            "Epoch 63/150\n",
            "50000/50000 [==============================] - 130s 3ms/step - loss: 0.4877 - acc: 0.8257 - val_loss: 0.6680 - val_acc: 0.7942\n",
            "Epoch 64/150\n",
            "15800/50000 [========>.....................] - ETA: 1:23 - loss: 0.4769 - acc: 0.8312"
          ],
          "name": "stdout"
        },
        {
          "output_type": "stream",
          "text": [
            "50000/50000 [==============================] - 130s 3ms/step - loss: 0.4796 - acc: 0.8300 - val_loss: 0.6299 - val_acc: 0.8067\n",
            "Epoch 65/150\n",
            "50000/50000 [==============================] - 130s 3ms/step - loss: 0.4850 - acc: 0.8294 - val_loss: 0.7655 - val_acc: 0.7768\n",
            "Epoch 66/150\n",
            "15800/50000 [========>.....................] - ETA: 1:23 - loss: 0.4780 - acc: 0.8304"
          ],
          "name": "stdout"
        },
        {
          "output_type": "stream",
          "text": [
            "50000/50000 [==============================] - 130s 3ms/step - loss: 0.4795 - acc: 0.8312 - val_loss: 0.6886 - val_acc: 0.7931\n",
            "Epoch 67/150\n",
            "50000/50000 [==============================] - 130s 3ms/step - loss: 0.4765 - acc: 0.8319 - val_loss: 0.7322 - val_acc: 0.7805\n",
            "Epoch 68/150\n",
            "15800/50000 [========>.....................] - ETA: 1:24 - loss: 0.4765 - acc: 0.8301"
          ],
          "name": "stdout"
        },
        {
          "output_type": "stream",
          "text": [
            "50000/50000 [==============================] - 131s 3ms/step - loss: 0.4733 - acc: 0.8334 - val_loss: 0.6963 - val_acc: 0.7940\n",
            "Epoch 69/150\n",
            "50000/50000 [==============================] - 130s 3ms/step - loss: 0.4675 - acc: 0.8341 - val_loss: 0.6546 - val_acc: 0.8019\n",
            "Epoch 70/150\n",
            "15800/50000 [========>.....................] - ETA: 1:24 - loss: 0.4622 - acc: 0.8354"
          ],
          "name": "stdout"
        },
        {
          "output_type": "stream",
          "text": [
            "50000/50000 [==============================] - 131s 3ms/step - loss: 0.4699 - acc: 0.8355 - val_loss: 0.6741 - val_acc: 0.8005\n",
            "Epoch 71/150\n",
            "50000/50000 [==============================] - 131s 3ms/step - loss: 0.4661 - acc: 0.8351 - val_loss: 0.7263 - val_acc: 0.7842\n",
            "Epoch 72/150\n",
            "15800/50000 [========>.....................] - ETA: 1:24 - loss: 0.4547 - acc: 0.8384"
          ],
          "name": "stdout"
        },
        {
          "output_type": "stream",
          "text": [
            "50000/50000 [==============================] - 131s 3ms/step - loss: 0.4670 - acc: 0.8345 - val_loss: 0.6247 - val_acc: 0.8111\n",
            "Epoch 73/150\n",
            "50000/50000 [==============================] - 130s 3ms/step - loss: 0.4600 - acc: 0.8382 - val_loss: 0.5983 - val_acc: 0.8144\n",
            "Epoch 74/150\n",
            "15800/50000 [========>.....................] - ETA: 1:23 - loss: 0.4592 - acc: 0.8347"
          ],
          "name": "stdout"
        },
        {
          "output_type": "stream",
          "text": [
            "50000/50000 [==============================] - 130s 3ms/step - loss: 0.4623 - acc: 0.8360 - val_loss: 0.7374 - val_acc: 0.7804\n",
            "Epoch 75/150\n",
            "50000/50000 [==============================] - 130s 3ms/step - loss: 0.4541 - acc: 0.8396 - val_loss: 0.6578 - val_acc: 0.7971\n",
            "Epoch 76/150\n",
            "15800/50000 [========>.....................] - ETA: 1:23 - loss: 0.4411 - acc: 0.8428"
          ],
          "name": "stdout"
        },
        {
          "output_type": "stream",
          "text": [
            "50000/50000 [==============================] - 130s 3ms/step - loss: 0.4558 - acc: 0.8387 - val_loss: 0.6198 - val_acc: 0.8093\n",
            "Epoch 77/150\n",
            "50000/50000 [==============================] - 130s 3ms/step - loss: 0.4527 - acc: 0.8393 - val_loss: 0.6361 - val_acc: 0.8090\n",
            "Epoch 78/150\n",
            "15800/50000 [========>.....................] - ETA: 1:23 - loss: 0.4428 - acc: 0.8417"
          ],
          "name": "stdout"
        },
        {
          "output_type": "stream",
          "text": [
            "50000/50000 [==============================] - 130s 3ms/step - loss: 0.4514 - acc: 0.8416 - val_loss: 0.5992 - val_acc: 0.8221\n",
            "Epoch 79/150\n",
            "50000/50000 [==============================] - 130s 3ms/step - loss: 0.4470 - acc: 0.8432 - val_loss: 0.7122 - val_acc: 0.7980\n",
            "Epoch 80/150\n",
            "15800/50000 [========>.....................] - ETA: 1:24 - loss: 0.4484 - acc: 0.8381"
          ],
          "name": "stdout"
        },
        {
          "output_type": "stream",
          "text": [
            "50000/50000 [==============================] - 130s 3ms/step - loss: 0.4535 - acc: 0.8394 - val_loss: 0.6765 - val_acc: 0.7931\n",
            "Epoch 81/150\n",
            "50000/50000 [==============================] - 130s 3ms/step - loss: 0.4484 - acc: 0.8406 - val_loss: 0.6653 - val_acc: 0.8060\n",
            "Epoch 82/150\n",
            "15800/50000 [========>.....................] - ETA: 1:23 - loss: 0.4343 - acc: 0.8473"
          ],
          "name": "stdout"
        },
        {
          "output_type": "stream",
          "text": [
            "50000/50000 [==============================] - 130s 3ms/step - loss: 0.4414 - acc: 0.8432 - val_loss: 0.7789 - val_acc: 0.7799\n",
            "Epoch 83/150\n",
            "50000/50000 [==============================] - 130s 3ms/step - loss: 0.4434 - acc: 0.8430 - val_loss: 0.7065 - val_acc: 0.7946\n",
            "Epoch 84/150\n",
            "15800/50000 [========>.....................] - ETA: 1:24 - loss: 0.4381 - acc: 0.8459"
          ],
          "name": "stdout"
        },
        {
          "output_type": "stream",
          "text": [
            "50000/50000 [==============================] - 131s 3ms/step - loss: 0.4402 - acc: 0.8437 - val_loss: 0.7066 - val_acc: 0.8026\n",
            "Epoch 85/150\n",
            "50000/50000 [==============================] - 131s 3ms/step - loss: 0.4420 - acc: 0.8436 - val_loss: 0.7322 - val_acc: 0.7890\n",
            "Epoch 86/150\n",
            "15800/50000 [========>.....................] - ETA: 1:24 - loss: 0.4240 - acc: 0.8491"
          ],
          "name": "stdout"
        },
        {
          "output_type": "stream",
          "text": [
            "50000/50000 [==============================] - 130s 3ms/step - loss: 0.4374 - acc: 0.8452 - val_loss: 0.6327 - val_acc: 0.8055\n",
            "Epoch 87/150\n",
            "50000/50000 [==============================] - 130s 3ms/step - loss: 0.4377 - acc: 0.8462 - val_loss: 0.6431 - val_acc: 0.8033\n",
            "Epoch 88/150\n",
            "15800/50000 [========>.....................] - ETA: 1:23 - loss: 0.4387 - acc: 0.8453"
          ],
          "name": "stdout"
        },
        {
          "output_type": "stream",
          "text": [
            "50000/50000 [==============================] - 130s 3ms/step - loss: 0.4338 - acc: 0.8464 - val_loss: 0.6736 - val_acc: 0.8047\n",
            "Epoch 89/150\n",
            "50000/50000 [==============================] - 130s 3ms/step - loss: 0.4277 - acc: 0.8482 - val_loss: 0.6612 - val_acc: 0.7977\n",
            "Epoch 90/150\n",
            "15800/50000 [========>.....................] - ETA: 1:23 - loss: 0.4166 - acc: 0.8552"
          ],
          "name": "stdout"
        },
        {
          "output_type": "stream",
          "text": [
            "50000/50000 [==============================] - 130s 3ms/step - loss: 0.4318 - acc: 0.8478 - val_loss: 0.6166 - val_acc: 0.8206\n",
            "Epoch 91/150\n",
            "50000/50000 [==============================] - 131s 3ms/step - loss: 0.4284 - acc: 0.8487 - val_loss: 0.8338 - val_acc: 0.7681\n",
            "Epoch 92/150\n",
            "15800/50000 [========>.....................] - ETA: 1:24 - loss: 0.4234 - acc: 0.8514"
          ],
          "name": "stdout"
        },
        {
          "output_type": "stream",
          "text": [
            "50000/50000 [==============================] - 131s 3ms/step - loss: 0.4250 - acc: 0.8505 - val_loss: 0.7374 - val_acc: 0.7876\n",
            "Epoch 93/150\n",
            "50000/50000 [==============================] - 131s 3ms/step - loss: 0.4276 - acc: 0.8486 - val_loss: 0.5493 - val_acc: 0.8310\n",
            "Epoch 94/150\n",
            "15800/50000 [========>.....................] - ETA: 1:24 - loss: 0.4237 - acc: 0.8502"
          ],
          "name": "stdout"
        },
        {
          "output_type": "stream",
          "text": [
            "50000/50000 [==============================] - 131s 3ms/step - loss: 0.4244 - acc: 0.8491 - val_loss: 0.6497 - val_acc: 0.8124\n",
            "Epoch 95/150\n",
            "50000/50000 [==============================] - 131s 3ms/step - loss: 0.4230 - acc: 0.8524 - val_loss: 0.6695 - val_acc: 0.8047\n",
            "Epoch 96/150\n",
            "15800/50000 [========>.....................] - ETA: 1:24 - loss: 0.4081 - acc: 0.8565"
          ],
          "name": "stdout"
        },
        {
          "output_type": "stream",
          "text": [
            "50000/50000 [==============================] - 131s 3ms/step - loss: 0.4189 - acc: 0.8529 - val_loss: 0.6551 - val_acc: 0.8053\n",
            "Epoch 97/150\n",
            "50000/50000 [==============================] - 131s 3ms/step - loss: 0.4233 - acc: 0.8497 - val_loss: 0.8715 - val_acc: 0.7592\n",
            "Epoch 98/150\n",
            "15800/50000 [========>.....................] - ETA: 1:24 - loss: 0.4200 - acc: 0.8532"
          ],
          "name": "stdout"
        },
        {
          "output_type": "stream",
          "text": [
            "50000/50000 [==============================] - 131s 3ms/step - loss: 0.4162 - acc: 0.8533 - val_loss: 0.6226 - val_acc: 0.8200\n",
            "Epoch 99/150\n",
            "50000/50000 [==============================] - 131s 3ms/step - loss: 0.4225 - acc: 0.8510 - val_loss: 0.7389 - val_acc: 0.7904\n",
            "Epoch 100/150\n",
            "15600/50000 [========>.....................] - ETA: 1:24 - loss: 0.4151 - acc: 0.8552"
          ],
          "name": "stdout"
        },
        {
          "output_type": "stream",
          "text": [
            "50000/50000 [==============================] - 130s 3ms/step - loss: 0.4166 - acc: 0.8528 - val_loss: 0.5906 - val_acc: 0.8230\n",
            "Epoch 101/150\n",
            "50000/50000 [==============================] - 130s 3ms/step - loss: 0.4100 - acc: 0.8541 - val_loss: 0.6382 - val_acc: 0.8097\n",
            "Epoch 102/150\n",
            "15400/50000 [========>.....................] - ETA: 1:25 - loss: 0.4109 - acc: 0.8556"
          ],
          "name": "stdout"
        },
        {
          "output_type": "stream",
          "text": [
            "50000/50000 [==============================] - 130s 3ms/step - loss: 0.4113 - acc: 0.8555 - val_loss: 0.7160 - val_acc: 0.7911\n",
            "Epoch 103/150\n",
            "50000/50000 [==============================] - 130s 3ms/step - loss: 0.4167 - acc: 0.8522 - val_loss: 0.6334 - val_acc: 0.8140\n",
            "Epoch 104/150\n",
            "15400/50000 [========>.....................] - ETA: 1:25 - loss: 0.4037 - acc: 0.8562"
          ],
          "name": "stdout"
        },
        {
          "output_type": "stream",
          "text": [
            "50000/50000 [==============================] - 130s 3ms/step - loss: 0.4132 - acc: 0.8546 - val_loss: 0.6455 - val_acc: 0.8086\n",
            "Epoch 105/150\n",
            "50000/50000 [==============================] - 131s 3ms/step - loss: 0.4104 - acc: 0.8554 - val_loss: 0.6129 - val_acc: 0.8165\n",
            "Epoch 106/150\n",
            "15400/50000 [========>.....................] - ETA: 1:25 - loss: 0.3909 - acc: 0.8604"
          ],
          "name": "stdout"
        },
        {
          "output_type": "stream",
          "text": [
            "50000/50000 [==============================] - 130s 3ms/step - loss: 0.4071 - acc: 0.8562 - val_loss: 0.6188 - val_acc: 0.8171\n",
            "Epoch 107/150\n",
            "50000/50000 [==============================] - 130s 3ms/step - loss: 0.4120 - acc: 0.8546 - val_loss: 0.6323 - val_acc: 0.8158\n",
            "Epoch 108/150\n",
            "15400/50000 [========>.....................] - ETA: 1:25 - loss: 0.3941 - acc: 0.8618"
          ],
          "name": "stdout"
        },
        {
          "output_type": "stream",
          "text": [
            "50000/50000 [==============================] - 130s 3ms/step - loss: 0.4065 - acc: 0.8569 - val_loss: 0.6395 - val_acc: 0.8110\n",
            "Epoch 109/150\n",
            "50000/50000 [==============================] - 130s 3ms/step - loss: 0.4042 - acc: 0.8564 - val_loss: 0.6807 - val_acc: 0.7957\n",
            "Epoch 110/150\n",
            "15400/50000 [========>.....................] - ETA: 1:25 - loss: 0.3989 - acc: 0.8595"
          ],
          "name": "stdout"
        },
        {
          "output_type": "stream",
          "text": [
            "50000/50000 [==============================] - 131s 3ms/step - loss: 0.4043 - acc: 0.8570 - val_loss: 0.7636 - val_acc: 0.7903\n",
            "Epoch 111/150\n",
            "50000/50000 [==============================] - 131s 3ms/step - loss: 0.4016 - acc: 0.8580 - val_loss: 0.5812 - val_acc: 0.8238\n",
            "Epoch 112/150\n",
            "15400/50000 [========>.....................] - ETA: 1:24 - loss: 0.3984 - acc: 0.8590"
          ],
          "name": "stdout"
        },
        {
          "output_type": "stream",
          "text": [
            "50000/50000 [==============================] - 130s 3ms/step - loss: 0.4018 - acc: 0.8562 - val_loss: 0.6141 - val_acc: 0.8162\n",
            "Epoch 113/150\n",
            "50000/50000 [==============================] - 130s 3ms/step - loss: 0.4013 - acc: 0.8575 - val_loss: 0.7027 - val_acc: 0.7985\n",
            "Epoch 114/150\n",
            "15400/50000 [========>.....................] - ETA: 1:25 - loss: 0.3999 - acc: 0.8555"
          ],
          "name": "stdout"
        },
        {
          "output_type": "stream",
          "text": [
            "50000/50000 [==============================] - 131s 3ms/step - loss: 0.4042 - acc: 0.8560 - val_loss: 0.6513 - val_acc: 0.8091\n",
            "Epoch 115/150\n",
            "50000/50000 [==============================] - 131s 3ms/step - loss: 0.3988 - acc: 0.8601 - val_loss: 0.7013 - val_acc: 0.7986\n",
            "Epoch 116/150\n",
            "15400/50000 [========>.....................] - ETA: 1:25 - loss: 0.3812 - acc: 0.8664"
          ],
          "name": "stdout"
        },
        {
          "output_type": "stream",
          "text": [
            "50000/50000 [==============================] - 131s 3ms/step - loss: 0.3963 - acc: 0.8615 - val_loss: 0.6220 - val_acc: 0.8209\n",
            "Epoch 117/150\n",
            "50000/50000 [==============================] - 130s 3ms/step - loss: 0.3952 - acc: 0.8595 - val_loss: 0.6679 - val_acc: 0.8045\n",
            "Epoch 118/150\n",
            "15400/50000 [========>.....................] - ETA: 1:25 - loss: 0.3973 - acc: 0.8580"
          ],
          "name": "stdout"
        },
        {
          "output_type": "stream",
          "text": [
            "50000/50000 [==============================] - 131s 3ms/step - loss: 0.3955 - acc: 0.8605 - val_loss: 0.6253 - val_acc: 0.8166\n",
            "Epoch 119/150\n",
            "50000/50000 [==============================] - 131s 3ms/step - loss: 0.3934 - acc: 0.8628 - val_loss: 0.6321 - val_acc: 0.8156\n",
            "Epoch 120/150\n",
            "15400/50000 [========>.....................] - ETA: 1:25 - loss: 0.3745 - acc: 0.8673"
          ],
          "name": "stdout"
        },
        {
          "output_type": "stream",
          "text": [
            "50000/50000 [==============================] - 131s 3ms/step - loss: 0.3885 - acc: 0.8618 - val_loss: 0.5917 - val_acc: 0.8211\n",
            "Epoch 121/150\n",
            "50000/50000 [==============================] - 131s 3ms/step - loss: 0.3913 - acc: 0.8619 - val_loss: 0.7084 - val_acc: 0.8029\n",
            "Epoch 122/150\n",
            "15400/50000 [========>.....................] - ETA: 1:25 - loss: 0.3902 - acc: 0.8631"
          ],
          "name": "stdout"
        },
        {
          "output_type": "stream",
          "text": [
            "50000/50000 [==============================] - 131s 3ms/step - loss: 0.3906 - acc: 0.8608 - val_loss: 0.6007 - val_acc: 0.8224\n",
            "Epoch 123/150\n",
            "50000/50000 [==============================] - 131s 3ms/step - loss: 0.3863 - acc: 0.8633 - val_loss: 0.6196 - val_acc: 0.8165\n",
            "Epoch 124/150\n",
            "15400/50000 [========>.....................] - ETA: 1:24 - loss: 0.3824 - acc: 0.8659"
          ],
          "name": "stdout"
        },
        {
          "output_type": "stream",
          "text": [
            "50000/50000 [==============================] - 130s 3ms/step - loss: 0.3875 - acc: 0.8624 - val_loss: 0.6179 - val_acc: 0.8196\n",
            "Epoch 125/150\n",
            "50000/50000 [==============================] - 130s 3ms/step - loss: 0.3898 - acc: 0.8612 - val_loss: 0.7210 - val_acc: 0.7999\n",
            "Epoch 126/150\n",
            "15400/50000 [========>.....................] - ETA: 1:25 - loss: 0.3878 - acc: 0.8612"
          ],
          "name": "stdout"
        },
        {
          "output_type": "stream",
          "text": [
            "50000/50000 [==============================] - 130s 3ms/step - loss: 0.3899 - acc: 0.8612 - val_loss: 0.5700 - val_acc: 0.8264\n",
            "Epoch 127/150\n",
            "50000/50000 [==============================] - 130s 3ms/step - loss: 0.3891 - acc: 0.8626 - val_loss: 0.6968 - val_acc: 0.8070\n",
            "Epoch 128/150\n",
            "15400/50000 [========>.....................] - ETA: 1:24 - loss: 0.3838 - acc: 0.8659"
          ],
          "name": "stdout"
        },
        {
          "output_type": "stream",
          "text": [
            "50000/50000 [==============================] - 130s 3ms/step - loss: 0.3840 - acc: 0.8649 - val_loss: 0.6715 - val_acc: 0.8088\n",
            "Epoch 129/150\n",
            "50000/50000 [==============================] - 130s 3ms/step - loss: 0.3860 - acc: 0.8626 - val_loss: 0.6587 - val_acc: 0.8044\n",
            "Epoch 130/150\n",
            "15400/50000 [========>.....................] - ETA: 1:24 - loss: 0.3849 - acc: 0.8645"
          ],
          "name": "stdout"
        },
        {
          "output_type": "stream",
          "text": [
            "50000/50000 [==============================] - 130s 3ms/step - loss: 0.3858 - acc: 0.8641 - val_loss: 0.6615 - val_acc: 0.8068\n",
            "Epoch 131/150\n",
            "50000/50000 [==============================] - 130s 3ms/step - loss: 0.3852 - acc: 0.8644 - val_loss: 0.5538 - val_acc: 0.8348\n",
            "Epoch 132/150\n",
            "15400/50000 [========>.....................] - ETA: 1:24 - loss: 0.3766 - acc: 0.8650"
          ],
          "name": "stdout"
        },
        {
          "output_type": "stream",
          "text": [
            "50000/50000 [==============================] - 130s 3ms/step - loss: 0.3801 - acc: 0.8636 - val_loss: 0.6229 - val_acc: 0.8155\n",
            "Epoch 133/150\n",
            "50000/50000 [==============================] - 130s 3ms/step - loss: 0.3846 - acc: 0.8634 - val_loss: 0.6806 - val_acc: 0.8122\n",
            "Epoch 134/150\n",
            "15400/50000 [========>.....................] - ETA: 1:25 - loss: 0.3729 - acc: 0.8664"
          ],
          "name": "stdout"
        },
        {
          "output_type": "stream",
          "text": [
            "50000/50000 [==============================] - 131s 3ms/step - loss: 0.3819 - acc: 0.8653 - val_loss: 0.7464 - val_acc: 0.7939\n",
            "Epoch 135/150\n",
            "50000/50000 [==============================] - 131s 3ms/step - loss: 0.3791 - acc: 0.8654 - val_loss: 0.7000 - val_acc: 0.8028\n",
            "Epoch 136/150\n",
            "15400/50000 [========>.....................] - ETA: 1:25 - loss: 0.3736 - acc: 0.8685"
          ],
          "name": "stdout"
        },
        {
          "output_type": "stream",
          "text": [
            "50000/50000 [==============================] - 131s 3ms/step - loss: 0.3790 - acc: 0.8669 - val_loss: 0.6017 - val_acc: 0.8210\n",
            "Epoch 137/150\n",
            "50000/50000 [==============================] - 131s 3ms/step - loss: 0.3719 - acc: 0.8682 - val_loss: 0.7340 - val_acc: 0.8005\n",
            "Epoch 138/150\n",
            "15400/50000 [========>.....................] - ETA: 1:25 - loss: 0.3668 - acc: 0.8713"
          ],
          "name": "stdout"
        },
        {
          "output_type": "stream",
          "text": [
            "50000/50000 [==============================] - 131s 3ms/step - loss: 0.3776 - acc: 0.8667 - val_loss: 0.6390 - val_acc: 0.8199\n",
            "Epoch 139/150\n",
            "50000/50000 [==============================] - 130s 3ms/step - loss: 0.3778 - acc: 0.8647 - val_loss: 0.6300 - val_acc: 0.8183\n",
            "Epoch 140/150\n",
            "15400/50000 [========>.....................] - ETA: 1:25 - loss: 0.3774 - acc: 0.8651"
          ],
          "name": "stdout"
        },
        {
          "output_type": "stream",
          "text": [
            "50000/50000 [==============================] - 130s 3ms/step - loss: 0.3741 - acc: 0.8677 - val_loss: 0.5570 - val_acc: 0.8315\n",
            "Epoch 141/150\n",
            "50000/50000 [==============================] - 131s 3ms/step - loss: 0.3718 - acc: 0.8685 - val_loss: 0.5989 - val_acc: 0.8276\n",
            "Epoch 142/150\n",
            "15400/50000 [========>.....................] - ETA: 1:25 - loss: 0.3705 - acc: 0.8692"
          ],
          "name": "stdout"
        },
        {
          "output_type": "stream",
          "text": [
            "50000/50000 [==============================] - 131s 3ms/step - loss: 0.3745 - acc: 0.8680 - val_loss: 0.5618 - val_acc: 0.8342\n",
            "Epoch 143/150\n",
            "50000/50000 [==============================] - 132s 3ms/step - loss: 0.3721 - acc: 0.8682 - val_loss: 0.6382 - val_acc: 0.8183\n",
            "Epoch 144/150\n",
            "15400/50000 [========>.....................] - ETA: 1:26 - loss: 0.3605 - acc: 0.8729"
          ],
          "name": "stdout"
        },
        {
          "output_type": "stream",
          "text": [
            "50000/50000 [==============================] - 132s 3ms/step - loss: 0.3730 - acc: 0.8684 - val_loss: 0.6497 - val_acc: 0.8094\n",
            "Epoch 145/150\n",
            "50000/50000 [==============================] - 132s 3ms/step - loss: 0.3712 - acc: 0.8691 - val_loss: 0.5727 - val_acc: 0.8303\n",
            "Epoch 146/150\n",
            "15400/50000 [========>.....................] - ETA: 1:26 - loss: 0.3550 - acc: 0.8781"
          ],
          "name": "stdout"
        },
        {
          "output_type": "stream",
          "text": [
            "50000/50000 [==============================] - 132s 3ms/step - loss: 0.3674 - acc: 0.8710 - val_loss: 0.5601 - val_acc: 0.8299\n",
            "Epoch 147/150\n",
            "50000/50000 [==============================] - 132s 3ms/step - loss: 0.3713 - acc: 0.8675 - val_loss: 0.6903 - val_acc: 0.8043\n",
            "Epoch 148/150\n",
            "15400/50000 [========>.....................] - ETA: 1:25 - loss: 0.3655 - acc: 0.8753"
          ],
          "name": "stdout"
        },
        {
          "output_type": "stream",
          "text": [
            "50000/50000 [==============================] - 132s 3ms/step - loss: 0.3683 - acc: 0.8708 - val_loss: 0.6753 - val_acc: 0.8074\n",
            "Epoch 149/150\n",
            "50000/50000 [==============================] - 132s 3ms/step - loss: 0.3628 - acc: 0.8702 - val_loss: 0.5743 - val_acc: 0.8289\n",
            "Epoch 150/150\n",
            "15400/50000 [========>.....................] - ETA: 1:26 - loss: 0.3624 - acc: 0.8722"
          ],
          "name": "stdout"
        },
        {
          "output_type": "stream",
          "text": [
            "50000/50000 [==============================] - 132s 3ms/step - loss: 0.3677 - acc: 0.8704 - val_loss: 0.6777 - val_acc: 0.8115\n"
          ],
          "name": "stdout"
        },
        {
          "output_type": "execute_result",
          "data": {
            "text/plain": [
              "<keras.callbacks.History at 0x7f1c425f4978>"
            ]
          },
          "metadata": {
            "tags": []
          },
          "execution_count": 12
        }
      ]
    },
    {
      "metadata": {
        "id": "ZcWydmIVhZGr",
        "colab_type": "code",
        "colab": {
          "base_uri": "https://localhost:8080/",
          "height": 68
        },
        "outputId": "2ade5f38-0eef-4fef-f0e4-6b475ca809e5"
      },
      "cell_type": "code",
      "source": [
        "# Test the model\n",
        "score = model.evaluate(x_test, y_test, verbose=1)\n",
        "print('Test loss:', score[0])\n",
        "print('Test accuracy:', score[1])"
      ],
      "execution_count": 13,
      "outputs": [
        {
          "output_type": "stream",
          "text": [
            "10000/10000 [==============================] - 14s 1ms/step\n",
            "Test loss: 0.6777336399555206\n",
            "Test accuracy: 0.8115\n"
          ],
          "name": "stdout"
        }
      ]
    },
    {
      "metadata": {
        "id": "UE3lF6EH1r_L",
        "colab_type": "code",
        "colab": {
          "base_uri": "https://localhost:8080/",
          "height": 34
        },
        "outputId": "ef5db18b-e734-4c50-8176-7ca0f527f76b"
      },
      "cell_type": "code",
      "source": [
        "# Save the trained weights in to .h5 format\n",
        "model.save_weights(\"DNST_model.h5\")\n",
        "print(\"Saved model to disk\")"
      ],
      "execution_count": 14,
      "outputs": [
        {
          "output_type": "stream",
          "text": [
            "Saved model to disk\n"
          ],
          "name": "stdout"
        }
      ]
    },
    {
      "metadata": {
        "id": "ai-yZ2ED5AK1",
        "colab_type": "code",
        "colab": {}
      },
      "cell_type": "code",
      "source": [
        "from google.colab import files\n",
        "\n",
        "files.download('DNST_model.h5')"
      ],
      "execution_count": 0,
      "outputs": []
    },
    {
      "metadata": {
        "id": "Og56VCRh5j8V",
        "colab_type": "code",
        "colab": {}
      },
      "cell_type": "code",
      "source": [
        ""
      ],
      "execution_count": 0,
      "outputs": []
    }
  ]
}